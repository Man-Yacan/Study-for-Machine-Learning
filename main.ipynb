{
 "cells": [
  {
   "cell_type": "code",
   "execution_count": 14,
   "metadata": {
    "ExecuteTime": {
     "end_time": "2023-05-22T06:56:01.532488800Z",
     "start_time": "2023-05-22T06:56:01.530300300Z"
    }
   },
   "outputs": [],
   "source": [
    "import numpy as np\n",
    "import pandas as pd\n",
    "from matplotlib import pyplot as plt\n",
    "import hues"
   ]
  },
  {
   "cell_type": "code",
   "execution_count": 19,
   "outputs": [],
   "source": [
    "# Define loss function\n",
    "def loss_fun(theta, X_b, y):\n",
    "    try:\n",
    "        return np.sum((y - X_b.dot(theta) ** 2)) / len(X_b)\n",
    "    except:\n",
    "        hues.error('The return value is to large!!!')\n",
    "        return np.inf\n",
    "\n",
    "\n",
    "# Define the Find the derivative function\n",
    "def get_der(theta, X_b, y):\n",
    "    return X_b.T.dot(X_b.dot(theta) - y) * 2 / len(X_b)\n",
    "\n",
    "theta_history=[]\n",
    "def gradient_descent(X_b, y, ini_theta, eta, n_iters=1e4, eps=1e-8):\n",
    "    theta = ini_theta\n",
    "    i = 0\n",
    "    theta_history.append(ini_theta)\n",
    "\n",
    "    while i < n_iters:\n",
    "        gradient = get_der(theta, X_b, y)\n",
    "        last_theta = theta\n",
    "        theta = theta - eta * gradient\n",
    "        theta_history.append(theta)\n",
    "\n",
    "        if abs(loss_fun(theta, X_b, y) - loss_fun(last_theta, X_b, y)) < eps:\n",
    "            break\n",
    "\n",
    "        i += 1\n",
    "\n",
    "    return theta"
   ],
   "metadata": {
    "collapsed": false,
    "ExecuteTime": {
     "end_time": "2023-05-22T06:56:47.041282900Z",
     "start_time": "2023-05-22T06:56:47.017959400Z"
    }
   }
  },
  {
   "cell_type": "code",
   "execution_count": 15,
   "outputs": [],
   "source": [
    "data_url = \"http://lib.stat.cmu.edu/datasets/boston\"\n",
    "raw_df = pd.read_csv(data_url, sep=\"\\s+\", skiprows=22, header=None)\n",
    "data = np.hstack([raw_df.values[::2, :], raw_df.values[1::2, :2]])\n",
    "target = raw_df.values[1::2, 2]"
   ],
   "metadata": {
    "collapsed": false,
    "ExecuteTime": {
     "end_time": "2023-05-22T06:56:03.719868600Z",
     "start_time": "2023-05-22T06:56:01.990136Z"
    }
   }
  },
  {
   "cell_type": "code",
   "execution_count": 16,
   "outputs": [
    {
     "data": {
      "text/plain": "((490, 13), (490,))"
     },
     "execution_count": 16,
     "metadata": {},
     "output_type": "execute_result"
    }
   ],
   "source": [
    "X, y = data, target\n",
    "X = X[y < 50]\n",
    "y = y[y < 50]\n",
    "X.shape, y.shape"
   ],
   "metadata": {
    "collapsed": false,
    "ExecuteTime": {
     "end_time": "2023-05-22T06:56:07.311785Z",
     "start_time": "2023-05-22T06:56:07.276408200Z"
    }
   }
  },
  {
   "cell_type": "code",
   "execution_count": 17,
   "outputs": [],
   "source": [
    "X_b = np.hstack([np.ones([len(X), 1]), X])"
   ],
   "metadata": {
    "collapsed": false,
    "ExecuteTime": {
     "end_time": "2023-05-22T06:56:13.831970Z",
     "start_time": "2023-05-22T06:56:13.791984600Z"
    }
   }
  },
  {
   "cell_type": "code",
   "execution_count": 18,
   "outputs": [
    {
     "data": {
      "text/plain": "((343, 14), (147, 14), (343,), (147,))"
     },
     "execution_count": 18,
     "metadata": {},
     "output_type": "execute_result"
    }
   ],
   "source": [
    "# Split the Feature Dataset and Label Dataset\n",
    "from sklearn.model_selection import train_test_split\n",
    "\n",
    "X_train, X_test, y_train, y_test, = train_test_split(X_b, y, test_size=0.3, random_state=666)\n",
    "X_train.shape, X_test.shape, y_train.shape, y_test.shape"
   ],
   "metadata": {
    "collapsed": false,
    "ExecuteTime": {
     "end_time": "2023-05-22T06:56:20.653758400Z",
     "start_time": "2023-05-22T06:56:20.348910200Z"
    }
   }
  },
  {
   "cell_type": "code",
   "execution_count": 23,
   "outputs": [
    {
     "name": "stdout",
     "output_type": "stream",
     "text": [
      "CPU times: total: 93.8 ms\n",
      "Wall time: 173 ms\n"
     ]
    },
    {
     "name": "stderr",
     "output_type": "stream",
     "text": [
      "C:\\Users\\myxc\\AppData\\Local\\Temp\\ipykernel_4432\\2878627023.py:4: RuntimeWarning: overflow encountered in square\n",
      "  return np.sum((y - X_b.dot(theta) ** 2)) / len(X_b)\n",
      "C:\\Users\\myxc\\AppData\\Local\\Temp\\ipykernel_4432\\2878627023.py:26: RuntimeWarning: invalid value encountered in double_scalars\n",
      "  if abs(loss_fun(theta, X_b, y) - loss_fun(last_theta, X_b, y)) < eps:\n",
      "C:\\Users\\myxc\\AppData\\Local\\Temp\\ipykernel_4432\\2878627023.py:12: RuntimeWarning: overflow encountered in multiply\n",
      "  return X_b.T.dot(X_b.dot(theta) - y) * 2 / len(X_b)\n",
      "C:\\Users\\myxc\\AppData\\Local\\Temp\\ipykernel_4432\\2878627023.py:23: RuntimeWarning: invalid value encountered in subtract\n",
      "  theta = theta - eta * gradient\n"
     ]
    },
    {
     "data": {
      "text/plain": "array([nan, nan, nan, nan, nan, nan, nan, nan, nan, nan, nan, nan, nan,\n       nan])"
     },
     "execution_count": 23,
     "metadata": {},
     "output_type": "execute_result"
    }
   ],
   "source": [
    "%%time\n",
    "initial_theta = np.zeros(X_train.shape[1])\n",
    "eta = 0.001\n",
    "\n",
    "gradient_descent(X_train, y_train, initial_theta, eta)"
   ],
   "metadata": {
    "collapsed": false,
    "ExecuteTime": {
     "end_time": "2023-05-22T07:00:09.081167300Z",
     "start_time": "2023-05-22T07:00:08.901310500Z"
    }
   }
  },
  {
   "cell_type": "code",
   "execution_count": 24,
   "outputs": [
    {
     "data": {
      "text/plain": "0.30594186189467965"
     },
     "execution_count": 24,
     "metadata": {},
     "output_type": "execute_result"
    }
   ],
   "source": [
    "calc_theta = gradient_descent(X_train, y_train, initial_theta, eta=1e-6)\n",
    "y_predict = X_test.dot(calc_theta)\n",
    "\n",
    "from sklearn.metrics import r2_score\n",
    "\n",
    "r2_score(y_test, y_predict)"
   ],
   "metadata": {
    "collapsed": false,
    "ExecuteTime": {
     "end_time": "2023-05-22T07:01:47.631822600Z",
     "start_time": "2023-05-22T07:01:47.457108900Z"
    }
   }
  },
  {
   "cell_type": "code",
   "execution_count": 25,
   "outputs": [
    {
     "name": "stdout",
     "output_type": "stream",
     "text": [
      "CPU times: total: 6.28 s\n",
      "Wall time: 17.2 s\n"
     ]
    },
    {
     "data": {
      "text/plain": "0.7440227019523431"
     },
     "execution_count": 25,
     "metadata": {},
     "output_type": "execute_result"
    }
   ],
   "source": [
    "%%time\n",
    "calc_theta = gradient_descent(X_train, y_train, initial_theta, eta=1e-6, n_iters=1e6)\n",
    "y_predict = X_test.dot(calc_theta)\n",
    "\n",
    "from sklearn.metrics import r2_score\n",
    "\n",
    "r2_score(y_test, y_predict)"
   ],
   "metadata": {
    "collapsed": false,
    "ExecuteTime": {
     "end_time": "2023-05-22T07:05:41.265761600Z",
     "start_time": "2023-05-22T07:05:24.056487400Z"
    }
   }
  },
  {
   "cell_type": "code",
   "execution_count": 26,
   "outputs": [
    {
     "data": {
      "text/plain": "StandardScaler()",
      "text/html": "<style>#sk-container-id-1 {color: black;background-color: white;}#sk-container-id-1 pre{padding: 0;}#sk-container-id-1 div.sk-toggleable {background-color: white;}#sk-container-id-1 label.sk-toggleable__label {cursor: pointer;display: block;width: 100%;margin-bottom: 0;padding: 0.3em;box-sizing: border-box;text-align: center;}#sk-container-id-1 label.sk-toggleable__label-arrow:before {content: \"▸\";float: left;margin-right: 0.25em;color: #696969;}#sk-container-id-1 label.sk-toggleable__label-arrow:hover:before {color: black;}#sk-container-id-1 div.sk-estimator:hover label.sk-toggleable__label-arrow:before {color: black;}#sk-container-id-1 div.sk-toggleable__content {max-height: 0;max-width: 0;overflow: hidden;text-align: left;background-color: #f0f8ff;}#sk-container-id-1 div.sk-toggleable__content pre {margin: 0.2em;color: black;border-radius: 0.25em;background-color: #f0f8ff;}#sk-container-id-1 input.sk-toggleable__control:checked~div.sk-toggleable__content {max-height: 200px;max-width: 100%;overflow: auto;}#sk-container-id-1 input.sk-toggleable__control:checked~label.sk-toggleable__label-arrow:before {content: \"▾\";}#sk-container-id-1 div.sk-estimator input.sk-toggleable__control:checked~label.sk-toggleable__label {background-color: #d4ebff;}#sk-container-id-1 div.sk-label input.sk-toggleable__control:checked~label.sk-toggleable__label {background-color: #d4ebff;}#sk-container-id-1 input.sk-hidden--visually {border: 0;clip: rect(1px 1px 1px 1px);clip: rect(1px, 1px, 1px, 1px);height: 1px;margin: -1px;overflow: hidden;padding: 0;position: absolute;width: 1px;}#sk-container-id-1 div.sk-estimator {font-family: monospace;background-color: #f0f8ff;border: 1px dotted black;border-radius: 0.25em;box-sizing: border-box;margin-bottom: 0.5em;}#sk-container-id-1 div.sk-estimator:hover {background-color: #d4ebff;}#sk-container-id-1 div.sk-parallel-item::after {content: \"\";width: 100%;border-bottom: 1px solid gray;flex-grow: 1;}#sk-container-id-1 div.sk-label:hover label.sk-toggleable__label {background-color: #d4ebff;}#sk-container-id-1 div.sk-serial::before {content: \"\";position: absolute;border-left: 1px solid gray;box-sizing: border-box;top: 0;bottom: 0;left: 50%;z-index: 0;}#sk-container-id-1 div.sk-serial {display: flex;flex-direction: column;align-items: center;background-color: white;padding-right: 0.2em;padding-left: 0.2em;position: relative;}#sk-container-id-1 div.sk-item {position: relative;z-index: 1;}#sk-container-id-1 div.sk-parallel {display: flex;align-items: stretch;justify-content: center;background-color: white;position: relative;}#sk-container-id-1 div.sk-item::before, #sk-container-id-1 div.sk-parallel-item::before {content: \"\";position: absolute;border-left: 1px solid gray;box-sizing: border-box;top: 0;bottom: 0;left: 50%;z-index: -1;}#sk-container-id-1 div.sk-parallel-item {display: flex;flex-direction: column;z-index: 1;position: relative;background-color: white;}#sk-container-id-1 div.sk-parallel-item:first-child::after {align-self: flex-end;width: 50%;}#sk-container-id-1 div.sk-parallel-item:last-child::after {align-self: flex-start;width: 50%;}#sk-container-id-1 div.sk-parallel-item:only-child::after {width: 0;}#sk-container-id-1 div.sk-dashed-wrapped {border: 1px dashed gray;margin: 0 0.4em 0.5em 0.4em;box-sizing: border-box;padding-bottom: 0.4em;background-color: white;}#sk-container-id-1 div.sk-label label {font-family: monospace;font-weight: bold;display: inline-block;line-height: 1.2em;}#sk-container-id-1 div.sk-label-container {text-align: center;}#sk-container-id-1 div.sk-container {/* jupyter's `normalize.less` sets `[hidden] { display: none; }` but bootstrap.min.css set `[hidden] { display: none !important; }` so we also need the `!important` here to be able to override the default hidden behavior on the sphinx rendered scikit-learn.org. See: https://github.com/scikit-learn/scikit-learn/issues/21755 */display: inline-block !important;position: relative;}#sk-container-id-1 div.sk-text-repr-fallback {display: none;}</style><div id=\"sk-container-id-1\" class=\"sk-top-container\"><div class=\"sk-text-repr-fallback\"><pre>StandardScaler()</pre><b>In a Jupyter environment, please rerun this cell to show the HTML representation or trust the notebook. <br />On GitHub, the HTML representation is unable to render, please try loading this page with nbviewer.org.</b></div><div class=\"sk-container\" hidden><div class=\"sk-item\"><div class=\"sk-estimator sk-toggleable\"><input class=\"sk-toggleable__control sk-hidden--visually\" id=\"sk-estimator-id-1\" type=\"checkbox\" checked><label for=\"sk-estimator-id-1\" class=\"sk-toggleable__label sk-toggleable__label-arrow\">StandardScaler</label><div class=\"sk-toggleable__content\"><pre>StandardScaler()</pre></div></div></div></div></div>"
     },
     "execution_count": 26,
     "metadata": {},
     "output_type": "execute_result"
    }
   ],
   "source": [
    "# Using data normalization\n",
    "from sklearn.preprocessing import StandardScaler\n",
    "\n",
    "scale_scaler = StandardScaler()\n",
    "scale_scaler.fit(X_train)"
   ],
   "metadata": {
    "collapsed": false,
    "ExecuteTime": {
     "end_time": "2023-05-22T07:12:03.609640900Z",
     "start_time": "2023-05-22T07:12:03.576633700Z"
    }
   }
  },
  {
   "cell_type": "code",
   "execution_count": 41,
   "outputs": [],
   "source": [
    "X_train_std = scale_scaler.transform(X_train)\n",
    "X_test_std = scale_scaler.transform(X_test)\n",
    "X_train_std = np.hstack([np.ones([len(X_train), 1]), X_train_std])\n",
    "X_test_std = np.hstack([np.ones([len(X_test), 1]), X_test_std])"
   ],
   "metadata": {
    "collapsed": false,
    "ExecuteTime": {
     "end_time": "2023-05-22T07:14:29.109736Z",
     "start_time": "2023-05-22T07:14:29.089558900Z"
    }
   }
  },
  {
   "cell_type": "code",
   "execution_count": 42,
   "outputs": [
    {
     "name": "stdout",
     "output_type": "stream",
     "text": [
      "CPU times: total: 78.1 ms\n",
      "Wall time: 176 ms\n"
     ]
    },
    {
     "data": {
      "text/plain": "0.7983573625036819"
     },
     "execution_count": 42,
     "metadata": {},
     "output_type": "execute_result"
    }
   ],
   "source": [
    "%%time\n",
    "initial_theta = np.zeros(X_train_std.shape[1])\n",
    "calc_theta = gradient_descent(X_train_std, y_train, initial_theta, eta=0.001)\n",
    "y_predict = X_test_std.dot(calc_theta)\n",
    "\n",
    "from sklearn.metrics import r2_score\n",
    "\n",
    "r2_score(y_test, y_predict)"
   ],
   "metadata": {
    "collapsed": false,
    "ExecuteTime": {
     "end_time": "2023-05-22T07:14:29.780594Z",
     "start_time": "2023-05-22T07:14:29.597859700Z"
    }
   }
  },
  {
   "cell_type": "code",
   "execution_count": 49,
   "outputs": [],
   "source": [
    "# Rewrite the function of gradient descent\n",
    "def get_der(theta, X_b, y):\n",
    "    rand_index = np.random.randint(len(X_b))\n",
    "    X_b_i, y_i = X_b[rand_index], y[rand_index]\n",
    "    return X_b_i.T.dot(X_b_i.dot(theta) - y_i) * 2\n",
    "\n",
    "theta_history = []\n",
    "def gradient_descent(X_b, y, ini_theta, eta, n_iters=1e4, eps=1e-8):\n",
    "    theta = ini_theta\n",
    "    i = 0\n",
    "    theta_history.append(ini_theta)\n",
    "    t_0, t_1 = 5, 50\n",
    "\n",
    "    def learning_rate(t):\n",
    "        return t_0 / (t + t_1)\n",
    "\n",
    "    while i < n_iters:\n",
    "        gradient = get_der(theta, X_b, y)\n",
    "        theta = theta - learning_rate(i) * gradient\n",
    "        theta_history.append(theta)\n",
    "        i += 1\n",
    "\n",
    "    return theta"
   ],
   "metadata": {
    "collapsed": false,
    "ExecuteTime": {
     "end_time": "2023-05-22T07:39:17.810354Z",
     "start_time": "2023-05-22T07:39:17.692069100Z"
    }
   }
  },
  {
   "cell_type": "code",
   "execution_count": 50,
   "outputs": [
    {
     "name": "stdout",
     "output_type": "stream",
     "text": [
      "CPU times: total: 31.2 ms\n",
      "Wall time: 69.8 ms\n"
     ]
    },
    {
     "data": {
      "text/plain": "array([3.01261573, 4.03667353])"
     },
     "execution_count": 50,
     "metadata": {},
     "output_type": "execute_result"
    }
   ],
   "source": [
    "%%time\n",
    "m = 100000\n",
    "\n",
    "x = np.random.normal(size=m)\n",
    "X = x.reshape(-1, 1)\n",
    "X_b = np.hstack([np.ones([len(X), 1]), X])\n",
    "\n",
    "y = 4 * x + 3 + np.random.normal(0, 3, size=m)\n",
    "\n",
    "initial_theta = np.zeros(X_b.shape[1])\n",
    "eta = 0.001\n",
    "\n",
    "calc_theta = gradient_descent(X_b, y, initial_theta, eta)\n",
    "calc_theta"
   ],
   "metadata": {
    "collapsed": false,
    "ExecuteTime": {
     "end_time": "2023-05-22T07:39:18.759453300Z",
     "start_time": "2023-05-22T07:39:18.680510Z"
    }
   }
  },
  {
   "cell_type": "code",
   "execution_count": 51,
   "outputs": [
    {
     "data": {
      "text/plain": "[array([0., 0.]),\n array([-0.20286549,  0.22300886]),\n array([1.72015117, 2.76390422]),\n array([2.29246922, 2.57419784]),\n array([2.17770594, 2.57007606]),\n array([2.51991887, 2.70560661]),\n array([1.92738612, 1.88905861]),\n array([3.39153196, 5.88829583]),\n array([3.47740565, 5.89506986]),\n array([3.93488011, 5.2826789 ]),\n array([3.97582198, 5.2290793 ]),\n array([4.19960978, 4.74351947]),\n array([3.28811975, 4.5399002 ]),\n array([2.51458868, 4.01224852]),\n array([2.23057418, 4.02025009]),\n array([2.17561982, 4.06132124]),\n array([2.2666842 , 3.96617263]),\n array([2.386421  , 4.05006514]),\n array([2.93834012, 3.72871806]),\n array([2.86389729, 3.74869859]),\n array([2.62468368, 3.66463385]),\n array([2.59708987, 3.6839583 ]),\n array([3.25549116, 3.88640837]),\n array([3.23576105, 3.87279481]),\n array([3.55098406, 4.14738408]),\n array([2.74343369, 4.03231142]),\n array([3.29429549, 3.91840371]),\n array([3.35301068, 3.89423196]),\n array([3.20816624, 3.89568804]),\n array([3.12420306, 4.00169208]),\n array([2.96740879, 3.83883388]),\n array([3.16031318, 3.63472065]),\n array([3.49602434, 3.53501539]),\n array([3.62445804, 3.48297676]),\n array([3.67313487, 3.45836902]),\n array([3.65802837, 3.44980002]),\n array([3.43995704, 3.53368399]),\n array([3.38197249, 3.64464631]),\n array([3.99116444, 3.41733197]),\n array([3.67512708, 2.94327131]),\n array([3.2828259 , 2.95226789]),\n array([3.51667255, 2.84143731]),\n array([3.16421882, 3.64742564]),\n array([3.34149111, 3.70554625]),\n array([3.2780421 , 3.68207573]),\n array([3.40152879, 3.87693413]),\n array([3.49746305, 3.82809036]),\n array([3.59839668, 3.74275587]),\n array([3.30402263, 3.88819704]),\n array([2.84267376, 4.30073207]),\n array([3.05301933, 4.81093393]),\n array([2.71635309, 4.63469553]),\n array([2.51041711, 4.5614215 ]),\n array([3.30336941, 4.5466242 ]),\n array([3.23562395, 4.59099849]),\n array([2.88358853, 4.94454754]),\n array([3.15378989, 5.59070793]),\n array([3.42891393, 5.72450735]),\n array([3.73387949, 5.89436876]),\n array([2.90415949, 4.36595195]),\n array([2.76438347, 4.29505748]),\n array([2.5726579, 4.4572269]),\n array([2.96107013, 4.02977739]),\n array([2.77498014, 4.04762201]),\n array([2.9012175 , 4.09972107]),\n array([3.50826916, 4.35297109]),\n array([3.63655484, 4.35778008]),\n array([4.04718155, 4.06397798]),\n array([3.79265634, 4.56089366]),\n array([4.0944208 , 4.35316491]),\n array([3.94011006, 4.54757432]),\n array([3.65312872, 3.86527352]),\n array([3.59045586, 3.89185495]),\n array([3.72991596, 4.01806307]),\n array([3.6333991 , 4.03358473]),\n array([3.72129633, 3.95221814]),\n array([3.56353259, 4.02560233]),\n array([3.02548693, 4.17985364]),\n array([2.70249903, 4.34951199]),\n array([2.60591473, 4.32331709]),\n array([2.90658119, 4.46596928]),\n array([3.15316755, 4.14497734]),\n array([3.31920105, 4.2787901 ]),\n array([3.35714238, 4.28102331]),\n array([3.32212096, 4.31505462]),\n array([3.47585923, 4.23145576]),\n array([3.45014019, 4.2671485 ]),\n array([3.18662334, 4.79108495]),\n array([3.39221057, 4.78397812]),\n array([3.39718485, 4.77926896]),\n array([3.28086477, 4.94076027]),\n array([3.53667718, 5.06712517]),\n array([3.09896991, 4.83734   ]),\n array([2.85161989, 4.91232404]),\n array([2.66177431, 4.69612487]),\n array([2.74031752, 4.81696817]),\n array([2.68408146, 4.81300063]),\n array([2.62023425, 4.75450281]),\n array([2.46956889, 4.70116484]),\n array([2.50731433, 4.71400482]),\n array([2.64049344, 4.51744344]),\n array([3.1441576 , 4.83614629]),\n array([3.18260164, 4.87499274]),\n array([2.71316571, 4.86771192]),\n array([2.65916428, 4.87656801]),\n array([2.3282238 , 4.85269488]),\n array([2.25413994, 4.89121361]),\n array([1.96194538, 4.90337474]),\n array([2.1143401 , 4.86324801]),\n array([2.28109538, 4.70734269]),\n array([2.58114477, 4.06377941]),\n array([2.4526612 , 3.83006541]),\n array([2.53984038, 3.81509203]),\n array([2.61041638, 3.88034362]),\n array([2.79367302, 3.89233794]),\n array([3.12828278, 4.17997281]),\n array([3.11560449, 4.19210683]),\n array([3.29681492, 4.20153908]),\n array([3.30976907, 4.1953082 ]),\n array([3.48593965, 3.93724317]),\n array([3.38857085, 4.01372094]),\n array([3.2159666 , 3.88310517]),\n array([3.01522215, 3.61738753]),\n array([2.69666067, 3.49920997]),\n array([2.5762288 , 3.56354133]),\n array([2.53772379, 3.50178292]),\n array([2.44852581, 3.58538119]),\n array([2.16156676, 3.7068073 ]),\n array([2.32137477, 3.5112821 ]),\n array([2.5053376 , 3.50583334]),\n array([2.58171103, 3.436845  ]),\n array([2.60820137, 3.4584949 ]),\n array([2.69016974, 3.52974369]),\n array([2.89444079, 3.69069851]),\n array([2.71568743, 3.64067325]),\n array([2.9562554 , 3.67964776]),\n array([2.86294036, 3.52667167]),\n array([2.82262883, 3.5145703 ]),\n array([2.77758675, 3.57488401]),\n array([2.51361585, 3.30591951]),\n array([2.29160291, 3.30944476]),\n array([2.26080735, 3.33964451]),\n array([2.35676383, 3.02769332]),\n array([2.34929187, 3.0319974 ]),\n array([2.61862088, 3.24422608]),\n array([2.7104337 , 3.35950878]),\n array([2.64343068, 3.32238222]),\n array([3.03902024, 3.86470943]),\n array([3.1791773 , 3.93077398]),\n array([3.23589862, 3.9989146 ]),\n array([3.12685618, 3.97753023]),\n array([3.13970923, 3.97933069]),\n array([2.99631986, 3.87027979]),\n array([2.79488293, 4.34465473]),\n array([2.98300831, 4.74964887]),\n array([3.04554597, 4.67864127]),\n array([2.99688517, 4.65603978]),\n array([3.16387791, 4.70882893]),\n array([3.11092079, 4.61241557]),\n array([2.98690226, 4.76341373]),\n array([2.96960084, 4.74535222]),\n array([2.87851305, 4.87005548]),\n array([2.8923312 , 4.87152064]),\n array([2.89013992, 4.86940037]),\n array([2.73553716, 4.78498217]),\n array([2.66507055, 4.80812682]),\n array([2.49174399, 4.63189795]),\n array([2.39776775, 4.49327849]),\n array([2.20323719, 4.59906243]),\n array([2.0954474 , 4.63874542]),\n array([2.37422272, 5.01784371]),\n array([2.29030219, 5.04262761]),\n array([2.14060139, 5.06710599]),\n array([2.20956068, 5.01618119]),\n array([2.13624392, 4.99010697]),\n array([2.18172057, 4.97383171]),\n array([2.05873781, 4.92170257]),\n array([2.09212543, 4.91292099]),\n array([1.91843479, 4.74814946]),\n array([2.1317172 , 4.63528767]),\n array([2.11467451, 4.64937345]),\n array([2.25655212, 4.55458465]),\n array([2.40246618, 4.98379739]),\n array([2.4395559 , 5.00127355]),\n array([2.64987075, 4.59324519]),\n array([2.73527073, 4.47755063]),\n array([2.82102355, 4.48648332]),\n array([2.85537413, 4.50853672]),\n array([3.08418147, 4.51344715]),\n array([3.24303594, 4.34851608]),\n array([3.14066354, 4.18230678]),\n array([3.33629373, 4.10008864]),\n array([3.2040714 , 4.28135987]),\n array([3.22410468, 4.26601862]),\n array([3.44712711, 4.25611183]),\n array([3.29925869, 4.28477643]),\n array([3.23370357, 4.25322734]),\n array([3.22611126, 4.24860592]),\n array([3.33442566, 4.28711277]),\n array([3.4691652 , 4.24606391]),\n array([3.51221765, 4.32847391]),\n array([3.44077511, 4.33756246]),\n array([3.56209358, 4.57132384]),\n array([3.75958477, 4.58833723]),\n array([3.85818037, 4.68351421]),\n array([3.9253631 , 4.64200751]),\n array([3.78626587, 4.82169113]),\n array([3.79385359, 4.81785443]),\n array([3.54485924, 4.53510242]),\n array([3.28939651, 4.35147174]),\n array([3.43933512, 4.51450324]),\n array([3.49018516, 4.56092449]),\n array([3.31586711, 4.56069929]),\n array([3.40300021, 4.56576268]),\n array([3.52209143, 4.49598384]),\n array([3.56361869, 4.52323222]),\n array([3.49235528, 4.60023122]),\n array([3.53192788, 4.63943091]),\n array([3.50602664, 4.61927118]),\n array([3.45666414, 4.57229786]),\n array([3.50375579, 4.62857456]),\n array([3.2486502, 4.1453128]),\n array([3.23717535, 4.12650033]),\n array([3.14596875, 3.90862107]),\n array([3.01627368, 3.99500443]),\n array([3.02160719, 3.98795239]),\n array([2.881309 , 3.7211685]),\n array([2.74852043, 3.77226987]),\n array([2.49929749, 3.57857071]),\n array([2.75242534, 3.76189954]),\n array([2.59037733, 3.79936571]),\n array([2.64025495, 3.83750697]),\n array([2.67631537, 3.86493441]),\n array([2.59693039, 3.88375757]),\n array([2.57688971, 3.87037751]),\n array([2.45762762, 3.64388568]),\n array([2.50232693, 3.70193457]),\n array([2.5334806 , 3.66987184]),\n array([2.48717344, 3.70173852]),\n array([2.43946724, 3.67940337]),\n array([2.57885768, 3.62428423]),\n array([2.65743631, 3.59630756]),\n array([2.54312072, 3.5749407 ]),\n array([2.68971193, 3.50787401]),\n array([2.6335673 , 3.40484618]),\n array([2.63046769, 3.40369117]),\n array([2.69962706, 3.46107025]),\n array([2.8699787 , 3.25465609]),\n array([3.00234841, 3.43712191]),\n array([3.02714668, 3.45875682]),\n array([3.00909534, 3.44856363]),\n array([2.917352 , 3.4003488]),\n array([2.89485717, 3.41533814]),\n array([2.68541355, 3.36862972]),\n array([2.6703263 , 3.38427531]),\n array([2.71927205, 3.4785922 ]),\n array([2.52264808, 3.63161692]),\n array([2.55187674, 3.68176535]),\n array([2.75336201, 3.62650732]),\n array([2.94975553, 3.77315897]),\n array([3.03346238, 3.76217172]),\n array([3.09874163, 3.7345883 ]),\n array([3.14325761, 3.71383704]),\n array([3.17481256, 3.72035593]),\n array([3.05831155, 3.67581804]),\n array([3.188841  , 3.61386707]),\n array([3.13710134, 3.61367392]),\n array([3.13014803, 3.61724917]),\n array([3.14394888, 3.60786593]),\n array([3.02571014, 3.57145825]),\n array([3.10995581, 3.50843324]),\n array([3.0811741 , 3.51952698]),\n array([3.08876043, 3.50332653]),\n array([3.00322706, 3.53348348]),\n array([3.02402434, 3.5271316 ]),\n array([2.98252595, 3.55265928]),\n array([3.01984074, 3.53104716]),\n array([3.04164537, 3.54289582]),\n array([3.06691783, 3.58830061]),\n array([3.22791282, 3.58105928]),\n array([3.17550707, 3.56581014]),\n array([3.15942216, 3.55438926]),\n array([3.26805055, 3.59846221]),\n array([3.28064734, 3.59270744]),\n array([3.22415479, 3.54715602]),\n array([3.09973015, 3.58533725]),\n array([3.17880529, 3.48067853]),\n array([3.17807192, 3.48059351]),\n array([3.24709574, 3.44286734]),\n array([3.2308218 , 3.43840461]),\n array([3.28019572, 3.4271464 ]),\n array([3.34028911, 3.40451156]),\n array([3.35329326, 3.3919696 ]),\n array([3.36174327, 3.39185354]),\n array([3.39716886, 3.40530474]),\n array([3.48480625, 3.55118481]),\n array([3.69948721, 3.56497263]),\n array([3.58415929, 3.48185651]),\n array([3.5882368 , 3.47810344]),\n array([3.56372726, 3.50317253]),\n array([3.5561598 , 3.50532556]),\n array([3.6738931 , 3.49716366]),\n array([3.63566993, 3.54004548]),\n array([3.64666789, 3.5375776 ]),\n array([3.6647114 , 3.53900771]),\n array([3.59209065, 3.60012023]),\n array([3.62365065, 3.60020229]),\n array([3.47297732, 3.59094403]),\n array([3.46168515, 3.60671526]),\n array([3.42554276, 3.62540297]),\n array([3.31522626, 3.48758353]),\n array([3.33974449, 3.50099964]),\n array([3.30620147, 3.54093973]),\n array([3.35050595, 3.50208953]),\n array([3.21653612, 3.43137447]),\n array([3.23573417, 3.45498302]),\n array([3.29900535, 3.52584396]),\n array([3.41161886, 3.55706481]),\n array([3.40562562, 3.55212954]),\n array([3.59597408, 3.59597336]),\n array([3.5207937 , 3.67974665]),\n array([3.44037102, 3.74743337]),\n array([3.43180813, 3.75327704]),\n array([3.25803201, 3.87451715]),\n array([3.35518633, 3.93878382]),\n array([3.25008539, 3.80006527]),\n array([3.39977314, 3.81832535]),\n array([3.28281762, 3.7783116 ]),\n array([3.35647988, 3.76611137]),\n array([3.3409076 , 3.80490213]),\n array([3.40917032, 3.84602215]),\n array([3.28664738, 3.77736984]),\n array([3.35473044, 3.72475655]),\n array([3.36222706, 3.72969226]),\n array([3.20523509, 3.74652687]),\n array([3.17059105, 3.77777351]),\n array([3.35410668, 3.65083317]),\n array([3.49275168, 3.44950701]),\n array([3.5494132 , 3.55626281]),\n array([3.52353197, 3.54293965]),\n array([3.38702308, 3.52801893]),\n array([3.28180965, 3.57526134]),\n array([3.24871332, 3.60175216]),\n array([3.287272  , 3.64142274]),\n array([3.29893326, 3.64920528]),\n array([3.35796726, 3.64519568]),\n array([3.35703621, 3.64672083]),\n array([3.35651118, 3.64712241]),\n array([3.25003293, 3.61798134]),\n array([3.24769345, 3.61537961]),\n array([3.16062156, 3.6366126 ]),\n array([3.12902011, 3.6412989 ]),\n array([3.07741509, 3.66275908]),\n array([3.08196038, 3.6699297 ]),\n array([3.12113552, 3.68505773]),\n array([3.06311308, 3.6543816 ]),\n array([3.15636452, 3.55210339]),\n array([3.09469839, 3.54638972]),\n array([3.07115174, 3.55427582]),\n array([3.12947554, 3.56858218]),\n array([3.02350373, 3.58725437]),\n array([2.9462728 , 3.65139261]),\n array([2.96236665, 3.64437408]),\n array([3.14017482, 3.70039708]),\n array([3.26945686, 3.63075598]),\n array([3.32641245, 3.60590112]),\n array([3.32724297, 3.60513177]),\n array([3.23638395, 3.81142675]),\n array([3.07735181, 3.66922726]),\n array([3.0465798 , 3.66135698]),\n array([3.16089178, 3.80262505]),\n array([3.0840737 , 3.91394246]),\n array([2.98834592, 3.94024532]),\n array([3.0894551 , 4.00992044]),\n array([3.05086004, 4.01177965]),\n array([2.99283768, 4.18628943]),\n array([2.96585852, 4.15543891]),\n array([2.94190335, 4.10627343]),\n array([3.00460095, 4.20696678]),\n array([2.98224074, 4.20572321]),\n array([3.13703815, 4.37682017]),\n array([3.18450494, 4.35012655]),\n array([3.2153808 , 4.31714276]),\n array([3.30150468, 4.23424439]),\n array([3.33032434, 4.22482205]),\n array([3.28269101, 4.20349964]),\n array([3.17469694, 4.23771404]),\n array([3.20731194, 4.17907343]),\n array([3.17759143, 4.21659684]),\n array([3.06324569, 4.13046744]),\n array([3.16242039, 4.11526779]),\n array([3.07104397, 4.19197482]),\n array([2.98052226, 4.3801017 ]),\n array([2.97713538, 4.38459929]),\n array([3.07501325, 4.45267289]),\n array([2.96943263, 4.46558883]),\n array([2.88990014, 4.40589529]),\n array([2.85570453, 4.39576082]),\n array([2.80170142, 4.34909165]),\n array([2.6992957, 4.4108543]),\n array([2.74854003, 4.3166904 ]),\n array([2.7692587 , 4.29187498]),\n array([2.8209475 , 4.26555289]),\n array([2.84069459, 4.23692392]),\n array([2.79888012, 4.19116724]),\n array([2.70334272, 4.22796592]),\n array([2.78721479, 4.07651579]),\n array([2.8792767 , 3.95201008]),\n array([2.96804735, 3.94943962]),\n array([2.96408182, 3.94123844]),\n array([3.01814016, 3.94467369]),\n array([2.97389671, 3.94515898]),\n array([2.93299008, 3.98544405]),\n array([2.94777225, 3.98850867]),\n array([2.99847313, 4.04789796]),\n array([3.08154274, 3.95835191]),\n array([3.18236372, 3.74754191]),\n array([3.26250162, 3.70763843]),\n array([3.30554322, 3.67401762]),\n array([3.33697444, 3.68322246]),\n array([3.24051909, 3.53995174]),\n array([3.27534435, 3.5566424 ]),\n array([3.28863675, 3.54892552]),\n array([3.21232165, 3.6113706 ]),\n array([3.25004673, 3.60522078]),\n array([3.36371764, 3.65899055]),\n array([3.4081055 , 3.63692839]),\n array([3.36264643, 3.66282038]),\n array([3.31513843, 3.68695022]),\n array([3.33407655, 3.6861182 ]),\n array([3.32888479, 3.68959625]),\n array([3.36858283, 3.68881001]),\n array([3.29686509, 3.71844694]),\n array([3.27762804, 3.70474369]),\n array([3.33185915, 3.64353675]),\n array([3.25087241, 3.73853709]),\n array([3.28189667, 3.82706134]),\n array([3.19949012, 3.74879617]),\n array([3.22898542, 3.74911723]),\n array([3.13749996, 3.71764139]),\n array([3.03364191, 3.75818638]),\n array([3.06186915, 3.76794748]),\n array([3.07585502, 3.77138855]),\n array([3.09590269, 3.73096273]),\n array([3.13571385, 3.79028146]),\n array([3.15947392, 3.79795685]),\n array([3.23991391, 3.91468541]),\n array([3.14510886, 3.75895835]),\n array([3.10855765, 3.73539392]),\n array([3.01301155, 3.73142113]),\n array([3.08983449, 3.70226298]),\n array([3.15455701, 3.6559958 ]),\n array([3.13729708, 3.63357609]),\n array([3.16718933, 3.66658846]),\n array([3.20180994, 3.70156671]),\n array([3.3040429 , 3.63696614]),\n array([3.27336439, 3.63606391]),\n array([3.29056551, 3.63769999]),\n array([3.23912057, 3.60198689]),\n array([3.1703342 , 3.62842034]),\n array([3.26939431, 3.57430572]),\n array([3.1667387 , 3.63003892]),\n array([3.2882057 , 3.72546455]),\n array([3.26613514, 3.76771211]),\n array([3.26534964, 3.76831418]),\n array([3.40487268, 3.81602031]),\n array([3.36630555, 3.81084623]),\n array([3.38556889, 3.83458968]),\n array([3.35402689, 3.8523114 ]),\n array([3.31351087, 3.85217217]),\n array([3.25383196, 3.89627038]),\n array([3.28087249, 3.88383205]),\n array([3.28065729, 3.88333683]),\n array([3.22303363, 3.82653249]),\n array([3.24189839, 3.81208229]),\n array([3.40702172, 3.55234663]),\n array([3.3762908 , 3.57039745]),\n array([3.32434084, 3.54936558]),\n array([3.41745398, 3.62597325]),\n array([3.39303543, 3.60227267]),\n array([3.29142511, 3.58906811]),\n array([3.31580856, 3.6252916 ]),\n array([3.30661353, 3.63279277]),\n array([3.18552786, 3.7481647 ]),\n array([3.23360283, 3.78769909]),\n array([3.28060191, 3.7854971 ]),\n array([3.24889005, 3.75672883]),\n array([3.23716158, 3.75020641]),\n array([3.21178588, 3.74310349]),\n array([3.13354859, 3.68043766]),\n array([3.17074487, 3.65484718]),\n array([3.19414326, 3.72259483]),\n array([3.22669907, 3.71188685]),\n array([3.20749691, 3.73495522]),\n array([3.23522717, 3.70213532]),\n array([3.25147695, 3.69514487]),\n array([3.23030065, 3.66832524]),\n array([3.21681018, 3.66164914]),\n array([3.14285571, 3.61656947]),\n array([3.13372522, 3.61095417]),\n array([3.19081667, 3.63049416]),\n array([3.15212122, 3.61950263]),\n array([3.1111373 , 3.71817875]),\n array([2.99042025, 3.60273408]),\n array([2.92718482, 3.52373346]),\n array([2.9004004 , 3.54254394]),\n array([2.89314625, 3.53241354]),\n array([2.98727033, 3.55031022]),\n array([3.03910941, 3.55170102]),\n array([3.03094993, 3.54878282]),\n array([2.98242387, 3.49777732]),\n array([3.01680505, 3.47875927]),\n array([2.9712205 , 3.53123795]),\n array([3.13711168, 3.44647614]),\n array([3.176783  , 3.47957285]),\n array([3.11893866, 3.47399211]),\n array([3.18780872, 3.47936709]),\n array([3.30662774, 3.51928337]),\n array([3.36796881, 3.53189409]),\n array([3.40423342, 3.55234348]),\n array([3.30078828, 3.7473539 ]),\n array([3.2973218 , 3.74773848]),\n array([3.32677889, 3.72991299]),\n array([3.4011016 , 3.68618244]),\n array([3.32438659, 3.63071911]),\n array([3.40309418, 3.70709476]),\n array([3.36097577, 3.69189627]),\n array([3.33947   , 3.69703693]),\n array([3.2932572 , 3.71841393]),\n array([3.24945397, 3.72917965]),\n array([3.20604449, 3.74177324]),\n array([3.22270406, 3.74600276]),\n array([3.13714179, 3.79116168]),\n array([3.06190714, 3.86660594]),\n array([3.17415286, 3.8803004 ]),\n array([3.17201634, 3.88016797]),\n array([3.11857886, 3.91774962]),\n array([3.07799718, 3.9416419 ]),\n array([3.06110335, 3.94660064]),\n array([3.09490001, 3.99364228]),\n array([3.12420277, 3.99099281]),\n array([3.16519534, 4.0268998 ]),\n array([3.13357071, 4.03424781]),\n array([3.17164205, 4.02066538]),\n array([3.14042383, 4.05066644]),\n array([3.19535859, 4.00649643]),\n array([3.20959813, 4.01893294]),\n array([3.28038232, 3.89758036]),\n array([3.22248774, 3.90051767]),\n array([3.07005826, 3.92552269]),\n array([3.07997845, 3.91251034]),\n array([3.06879992, 3.89766953]),\n array([3.03924969, 3.9419736 ]),\n array([2.99566291, 4.03955169]),\n array([2.97813805, 4.05592881]),\n array([2.93535328, 4.02457952]),\n array([2.75830352, 4.0877195 ]),\n array([2.72273122, 4.0727722 ]),\n array([2.61233734, 4.18620293]),\n array([2.6393069 , 4.19136184]),\n array([2.67529893, 4.20557536]),\n array([2.68232344, 4.20687136]),\n array([2.72813995, 4.2375583 ]),\n array([2.71621806, 4.23537644]),\n array([2.6505964 , 4.13977794]),\n array([2.6369355 , 4.15192404]),\n array([2.65481761, 4.13389075]),\n array([2.64780763, 4.13067836]),\n array([2.66630952, 4.09084389]),\n array([2.66542472, 4.0887332 ]),\n array([2.60816245, 4.01685797]),\n array([2.54638743, 3.90000291]),\n array([2.58864565, 3.9102389 ]),\n array([2.54362059, 3.81987686]),\n array([2.51886096, 3.82180331]),\n array([2.51356006, 3.82999127]),\n array([2.52304829, 3.81279029]),\n array([2.46675853, 3.88679061]),\n array([2.51809639, 3.87596651]),\n array([2.49410895, 3.88119821]),\n array([2.46118895, 3.85303088]),\n array([2.43382098, 3.86788262]),\n array([2.4540076 , 3.88963717]),\n array([2.48428192, 3.92604463]),\n array([2.43155929, 3.94083312]),\n array([2.40047444, 3.95745521]),\n array([2.41390168, 3.94628276]),\n array([2.34855642, 4.00248212]),\n array([2.37536983, 4.05478174]),\n array([2.38099547, 4.05077782]),\n array([2.37680431, 4.05234309]),\n array([2.37750393, 4.05302238]),\n array([2.45593629, 4.13227143]),\n array([2.49412322, 4.09205602]),\n array([2.48303731, 4.09746378]),\n array([2.41393015, 4.11349182]),\n array([2.40378658, 4.10541293]),\n array([2.46638228, 4.03671703]),\n array([2.50768801, 4.00810327]),\n array([2.50953452, 4.00865103]),\n array([2.49262566, 4.01929658]),\n array([2.4258738 , 3.98607949]),\n array([2.40348717, 3.96793859]),\n array([2.46886169, 3.95446158]),\n array([2.46367487, 3.95574616]),\n array([2.51382252, 3.94162734]),\n array([2.58914709, 3.93144968]),\n array([2.57362391, 3.92343977]),\n array([2.61240982, 3.9292556 ]),\n array([2.52464709, 3.85202616]),\n array([2.49509618, 3.91894295]),\n array([2.49103137, 3.91604743]),\n array([2.56711465, 3.96274352]),\n array([2.62579489, 3.85783082]),\n array([2.61716538, 3.86313545]),\n array([2.6207995 , 3.86199374]),\n array([2.62132624, 3.86074154]),\n array([2.61208004, 3.85765233]),\n array([2.55223998, 3.97233537]),\n array([2.60579234, 3.97219816]),\n array([2.61053348, 3.97081034]),\n array([2.55188546, 3.96793204]),\n array([2.61888268, 3.94029452]),\n array([2.61716056, 3.94339045]),\n array([2.69153485, 3.90917289]),\n array([2.71309048, 3.90930965]),\n array([2.70985116, 3.9071518 ]),\n array([2.76999784, 3.92170835]),\n array([2.80013009, 3.92540663]),\n array([2.87257218, 3.79605899]),\n array([2.86999815, 3.80149602]),\n array([2.87010961, 3.80140125]),\n array([2.80539818, 3.80408066]),\n array([2.78498314, 3.79277827]),\n array([2.72934587, 3.87455473]),\n array([2.70998841, 3.86708078]),\n array([2.74911195, 3.85755646]),\n array([2.81206827, 3.82807567]),\n array([2.81659108, 3.82954456]),\n array([2.85797678, 3.85446029]),\n array([2.82618275, 3.84150704]),\n array([2.72029849, 3.82749927]),\n array([2.81363568, 3.85520831]),\n array([2.87103585, 3.78618752]),\n array([2.94743564, 3.85365668]),\n array([2.88117092, 3.77151848]),\n array([2.85138493, 3.74338664]),\n array([2.74643203, 3.67482261]),\n array([2.70027725, 3.72689853]),\n array([2.612691  , 3.77273528]),\n array([2.62439664, 3.76720035]),\n array([2.68511481, 3.7101093 ]),\n array([2.63492386, 3.63158161]),\n array([2.60783751, 3.68828709]),\n array([2.6115909 , 3.69248163]),\n array([2.66898501, 3.73855365]),\n array([2.65654911, 3.73305452]),\n array([2.70532305, 3.67962111]),\n array([2.70485157, 3.67937782]),\n array([2.72502964, 3.67492282]),\n array([2.78761788, 3.59930008]),\n array([2.84078186, 3.73147669]),\n array([2.80996978, 3.66969717]),\n array([2.8978214 , 3.78892582]),\n array([2.83489289, 3.77692505]),\n array([2.88612866, 3.75189276]),\n array([2.87109955, 3.76655091]),\n array([2.90004454, 3.7640537 ]),\n array([2.9979236 , 3.70636591]),\n array([2.97237861, 3.73194716]),\n array([2.98009309, 3.73124074]),\n array([3.01123154, 3.68736232]),\n array([3.05380924, 3.66400441]),\n array([3.0679861 , 3.66106244]),\n array([3.02457333, 3.65905562]),\n array([2.99517879, 3.62265586]),\n array([2.99651481, 3.62257832]),\n array([3.00886833, 3.62806642]),\n array([3.08410793, 3.78548799]),\n array([3.04192234, 3.82684424]),\n array([3.00902247, 3.80309222]),\n array([2.97591808, 3.85560586]),\n array([3.00576863, 3.87077566]),\n array([2.98847241, 3.8849191 ]),\n array([3.01610673, 3.86915832]),\n array([2.97738049, 3.90249658]),\n array([2.99919515, 3.90230179]),\n array([2.99823242, 3.90173186]),\n array([2.95387539, 3.87310241]),\n array([3.02002478, 3.8665265 ]),\n array([3.04813443, 3.91019308]),\n array([3.06497767, 3.91177976]),\n array([3.01535846, 3.96895088]),\n array([2.95730597, 3.9541195 ]),\n array([2.91023434, 3.92287225]),\n array([2.94252747, 3.90889112]),\n array([2.9475166 , 3.91255635]),\n array([2.9642876 , 3.88767828]),\n array([2.9753404, 3.8792635]),\n array([2.96783322, 3.88403051]),\n array([2.92095003, 3.83919286]),\n array([2.8964529 , 3.85387499]),\n array([2.87392439, 3.83474022]),\n array([2.90902318, 3.82931274]),\n array([2.8619169 , 3.91214828]),\n array([2.85119521, 3.91652316]),\n array([2.8394677 , 3.90386203]),\n array([2.82544954, 3.90767519]),\n array([2.81618687, 3.89967119]),\n array([2.8097791 , 3.88552754]),\n array([2.93196962, 3.50878614]),\n array([2.84302054, 3.62864061]),\n array([2.81731194, 3.60966602]),\n array([2.78026518, 3.5667227 ]),\n array([2.84802297, 3.60492853]),\n array([2.82163162, 3.60467681]),\n array([2.86926991, 3.593054  ]),\n array([2.88628707, 3.57592125]),\n array([2.82720071, 3.53670189]),\n array([2.87715267, 3.51428306]),\n array([2.8433892 , 3.50282181]),\n array([2.82776347, 3.474128  ]),\n array([2.91682702, 3.48715358]),\n array([2.91691633, 3.4870894 ]),\n array([2.89086279, 3.47154176]),\n array([2.93771484, 3.51941918]),\n array([2.92496663, 3.49450246]),\n array([2.91749442, 3.51194359]),\n array([2.93887505, 3.47009726]),\n array([2.94268912, 3.46754528]),\n array([2.87245521, 3.49330182]),\n array([2.90455601, 3.50513596]),\n array([2.85759122, 3.56015197]),\n array([2.81791317, 3.53989116]),\n array([2.84319783, 3.54312404]),\n array([2.80469594, 3.56101911]),\n array([2.78354842, 3.59829147]),\n array([2.78694993, 3.59835063]),\n array([2.71841777, 3.72163989]),\n array([2.72938652, 3.7254395 ]),\n array([2.7847655 , 3.73351242]),\n array([2.78523424, 3.73357825]),\n array([2.83367763, 3.77278962]),\n array([2.81400315, 3.77381813]),\n array([2.78974965, 3.77920279]),\n array([2.77128071, 3.7852748 ]),\n array([2.77647707, 3.79349302]),\n array([2.76403516, 3.78635977]),\n array([2.74459417, 3.78358945]),\n array([2.73859081, 3.79741936]),\n array([2.74764227, 3.79883725]),\n array([2.74768366, 3.79883213]),\n array([2.68843228, 3.83648119]),\n array([2.74840122, 3.82765481]),\n array([2.75604704, 3.83333223]),\n array([2.78401472, 3.84142073]),\n array([2.76789407, 3.87249536]),\n array([2.78816509, 3.88869349]),\n array([2.75794353, 3.92754122]),\n array([2.77324198, 3.9387728 ]),\n array([2.72848891, 3.95937693]),\n array([2.69471573, 3.98112511]),\n array([2.66997811, 3.97984894]),\n array([2.64577491, 3.95880626]),\n array([2.62037987, 3.95110449]),\n array([2.66491311, 3.88963998]),\n array([2.6273438 , 3.90968804]),\n array([2.65444222, 3.92602514]),\n array([2.71252282, 3.90645947]),\n array([2.74529208, 3.94144027]),\n array([2.71963718, 3.91908094]),\n array([2.75410631, 3.87010622]),\n array([2.7833267 , 3.85427527]),\n array([2.8534656 , 3.91955323]),\n array([2.82048558, 3.91516794]),\n array([2.78525233, 3.95347004]),\n array([2.75163489, 3.96570652]),\n array([2.75304095, 3.96610767]),\n array([2.78682504, 3.99902543]),\n array([2.77936445, 3.99445807]),\n array([2.78059298, 3.99532932]),\n array([2.76200182, 4.01792714]),\n array([2.79908126, 4.09670041]),\n array([2.81392664, 4.102997  ]),\n array([2.82249529, 4.10144291]),\n array([2.85204456, 4.06885276]),\n array([2.84962217, 4.06964051]),\n array([2.80769721, 4.05776108]),\n array([2.77858002, 4.07107668]),\n array([2.799022  , 4.07791832]),\n array([2.78774433, 4.07894046]),\n array([2.83586391, 4.07581372]),\n array([2.82668788, 4.0724817 ]),\n array([2.89590908, 4.18129645]),\n array([2.89671891, 4.18128895]),\n array([2.91601981, 4.17449495]),\n array([2.92093889, 4.17049318]),\n array([2.96616796, 4.1030256 ]),\n array([2.96778825, 4.10416629]),\n array([2.96323737, 4.10231619]),\n array([2.95383804, 4.09361151]),\n array([2.96900174, 4.08759571]),\n array([2.97744678, 4.07913502]),\n array([2.97039508, 4.07595183]),\n array([2.99855881, 4.09344338]),\n array([3.04286147, 4.07806883]),\n array([3.08449689, 4.09926731]),\n array([3.1385424, 4.035953 ]),\n array([3.07747622, 3.99647402]),\n array([3.13471093, 4.00818204]),\n array([3.16735784, 4.04240173]),\n array([3.14939117, 4.00435268]),\n array([3.18576074, 4.03117496]),\n array([3.19936473, 4.04950486]),\n array([3.19380631, 4.05149388]),\n array([3.16642587, 4.04229822]),\n array([3.24700433, 4.08621027]),\n array([3.26912917, 4.08514982]),\n array([3.24824714, 4.08999173]),\n array([3.26653025, 4.06030309]),\n array([3.27604062, 4.07592693]),\n array([3.2422732 , 4.13213785]),\n array([3.24768491, 4.13179493]),\n array([3.22646843, 4.08831607]),\n array([3.297788  , 4.12508037]),\n array([3.29783625, 4.1250447 ]),\n array([3.25967057, 4.07601008]),\n array([3.19059146, 4.08587776]),\n array([3.18878683, 4.08653337]),\n array([3.20945478, 4.09761171]),\n array([3.18991404, 4.10117389]),\n array([3.1882977 , 4.09923349]),\n array([3.1949331 , 4.10387754]),\n array([3.21479109, 4.14269015]),\n array([3.25681304, 4.16596499]),\n array([3.22336174, 4.18065823]),\n array([3.29564772, 4.0636384 ]),\n array([3.33151079, 4.09489374]),\n array([3.35121672, 4.05256797]),\n array([3.39711235, 4.02534316]),\n array([3.40829761, 4.02719473]),\n array([3.42330585, 4.02779858]),\n array([3.33083497, 3.97559999]),\n array([3.43294668, 3.89356601]),\n array([3.44332807, 3.88101546]),\n array([3.47981332, 3.91909249]),\n array([3.51682989, 3.94985634]),\n array([3.46749514, 3.9920162 ]),\n array([3.47553155, 3.9758642 ]),\n array([3.47592507, 3.97661229]),\n array([3.50100654, 3.97085841]),\n array([3.46774485, 4.00011097]),\n array([3.43068441, 3.99058611]),\n array([3.48704776, 4.07157089]),\n array([3.48257029, 4.06495406]),\n array([3.52362873, 4.05220248]),\n array([3.5395393 , 4.05594344]),\n array([3.51678056, 4.03502769]),\n array([3.5204767, 4.0321883]),\n array([3.48452551, 4.0657089 ]),\n array([3.48163533, 4.06604066]),\n array([3.49242318, 4.0737331 ]),\n array([3.52664085, 4.05310843]),\n array([3.55678466, 4.01525147]),\n array([3.56342882, 4.01511536]),\n array([3.55860973, 4.0113639 ]),\n array([3.53614325, 3.98377561]),\n array([3.51216872, 3.99020474]),\n array([3.5085509 , 3.99135601]),\n array([3.48379783, 3.98300853]),\n array([3.48314706, 3.98481253]),\n array([3.46264508, 3.99904879]),\n array([3.48679874, 4.04030487]),\n array([3.50951506, 4.00907995]),\n array([3.47841859, 3.9962574 ]),\n array([3.457811  , 3.98944549]),\n array([3.41650385, 4.04531647]),\n array([3.35563851, 3.99502327]),\n array([3.31203691, 3.98294989]),\n array([3.29188242, 3.95788613]),\n array([3.31722102, 3.95616513]),\n array([3.35384176, 4.01762962]),\n array([3.33107318, 4.03655733]),\n array([3.35900503, 4.06291488]),\n array([3.34435279, 4.08106163]),\n array([3.2759956 , 4.07577577]),\n array([3.27938067, 4.07471066]),\n array([3.22681283, 4.10094621]),\n array([3.23608899, 4.09580688]),\n array([3.15707396, 4.12611563]),\n array([3.12799316, 4.12987761]),\n array([3.14016766, 4.12498702]),\n array([3.12194826, 4.11880006]),\n array([3.1130167 , 4.11490399]),\n array([3.10692349, 4.10973862]),\n array([3.11902227, 4.10168699]),\n array([3.08898346, 4.12688543]),\n array([3.09678903, 4.13046419]),\n array([3.10904379, 4.12802873]),\n array([3.13406655, 4.09954385]),\n array([3.14634635, 4.11399787]),\n array([3.16866011, 4.10974831]),\n array([3.19076518, 4.09355833]),\n array([3.19502014, 4.10236143]),\n array([3.2235997 , 4.09516689]),\n array([3.24996565, 4.08110592]),\n array([3.25935066, 4.06327844]),\n array([3.23277707, 4.09055876]),\n array([3.2557013 , 4.10047338]),\n array([3.21687537, 4.08352809]),\n array([3.22327492, 4.09886605]),\n array([3.23430075, 4.10563827]),\n array([3.21674341, 4.06389555]),\n array([3.2602637 , 4.04025328]),\n array([3.22701392, 4.05226376]),\n array([3.25994252, 4.03766504]),\n array([3.2648426 , 4.04316511]),\n array([3.31205097, 4.01429274]),\n array([3.31078607, 4.01399955]),\n array([3.28755048, 4.04070423]),\n array([3.3187322 , 4.07819403]),\n array([3.32372886, 4.08147899]),\n array([3.37959458, 4.07927777]),\n array([3.3801524 , 4.07964231]),\n array([3.37474028, 4.08093009]),\n array([3.39500928, 4.07880064]),\n array([3.40390588, 4.08727846]),\n array([3.35102159, 4.0669436 ]),\n array([3.33817887, 4.06595812]),\n array([3.33241575, 4.06213633]),\n array([3.3626879 , 4.05410183]),\n array([3.31395297, 4.06562364]),\n array([3.30587885, 4.0592047 ]),\n array([3.31463277, 4.06502765]),\n array([3.33270769, 4.06650469]),\n array([3.33051857, 4.0677965 ]),\n array([3.34238386, 4.06458212]),\n array([3.32573207, 4.0336322 ]),\n array([3.22065764, 4.149165  ]),\n array([3.16998026, 4.17413579]),\n array([3.15752151, 4.16894889]),\n array([3.16276734, 4.17108292]),\n array([3.15650137, 4.17259973]),\n array([3.20200203, 4.14301646]),\n array([3.23518849, 4.17465372]),\n array([3.28366625, 4.1844351 ]),\n array([3.22982694, 4.15494269]),\n array([3.2625272 , 4.21153896]),\n array([3.27001902, 4.20569488]),\n array([3.24353121, 4.24980262]),\n array([3.18604392, 4.11612818]),\n array([3.20246292, 4.13498136]),\n array([3.19857895, 4.1358413 ]),\n array([3.2523541 , 4.08167222]),\n array([3.29098659, 4.11564036]),\n array([3.2631255 , 4.09828985]),\n array([3.23974727, 4.13485009]),\n array([3.23620987, 4.1313019 ]),\n array([3.27772546, 4.01019844]),\n array([3.26824278, 3.99547975]),\n array([3.28656517, 4.01070158]),\n array([3.30658916, 4.02751022]),\n array([3.26412534, 4.03588941]),\n array([3.22222438, 4.04090119]),\n array([3.18714253, 3.99254007]),\n array([3.16597904, 3.98822203]),\n array([3.15471717, 3.99860364]),\n array([3.11849199, 3.97003456]),\n array([3.12616871, 3.96729151]),\n array([3.12582645, 3.96788711]),\n array([3.14177548, 3.98094448]),\n array([3.11473287, 3.9613228 ]),\n array([3.12400898, 3.96814247]),\n array([3.12150834, 3.96596501]),\n array([3.06074639, 4.00243097]),\n array([3.04228778, 4.01108086]),\n array([3.03306118, 4.00878863]),\n array([3.00983222, 4.01968705]),\n array([3.04045698, 4.01752725]),\n array([3.0532954 , 4.01371776]),\n array([3.09325664, 4.09578374]),\n array([3.14499068, 4.17277357]),\n array([3.14420242, 4.17324135]),\n array([3.12424676, 4.19675503]),\n array([3.08207641, 4.25892313]),\n array([3.06221952, 4.26028702]),\n array([3.07574842, 4.2419931 ]),\n array([3.08568036, 4.2420719 ]),\n array([3.10116042, 4.24593801]),\n array([3.06050664, 4.27432703]),\n array([3.01908507, 4.27589565]),\n array([2.9940286 , 4.29729019]),\n array([2.98363681, 4.2801386 ]),\n array([2.94274635, 4.255102  ]),\n array([2.97519533, 4.20782678]),\n array([2.96768807, 4.21093884]),\n array([2.91823503, 4.14969678]),\n array([2.86908689, 4.09789015]),\n array([2.86934926, 4.0978813 ]),\n array([2.87126836, 4.0993178 ]),\n ...]"
     },
     "execution_count": 51,
     "metadata": {},
     "output_type": "execute_result"
    }
   ],
   "source": [
    "theta_history"
   ],
   "metadata": {
    "collapsed": false,
    "ExecuteTime": {
     "end_time": "2023-05-22T07:39:26.228420100Z",
     "start_time": "2023-05-22T07:39:26.140193100Z"
    }
   }
  }
 ],
 "metadata": {
  "kernelspec": {
   "display_name": "Python 3 (ipykernel)",
   "language": "python",
   "name": "python3"
  },
  "language_info": {
   "codemirror_mode": {
    "name": "ipython",
    "version": 3
   },
   "file_extension": ".py",
   "mimetype": "text/x-python",
   "name": "python",
   "nbconvert_exporter": "python",
   "pygments_lexer": "ipython3",
   "version": "3.11.3"
  }
 },
 "nbformat": 4,
 "nbformat_minor": 1
}

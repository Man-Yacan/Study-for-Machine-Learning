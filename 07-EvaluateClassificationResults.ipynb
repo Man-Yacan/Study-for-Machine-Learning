{
 "cells": [
  {
   "cell_type": "markdown",
   "source": [
    "## Introduction\n",
    "\n",
    "分类准确度的问题：对于极度偏斜（Skewed Data）的数据，只使用分类准确度是远远不够的。\n",
    "\n",
    "使用混淆矩阵（Confusion Matrix）做进一步的分析\n",
    "\n",
    "![](https://i.imgur.com/5XmT9Bl.png)\n",
    "\n",
    "\n",
    "精准率和召回率\n",
    "![](https://i.imgur.com/rQUYkHP.png)\n",
    "![](https://i.imgur.com/5qjXzXI.png)\n",
    "![](https://i.imgur.com/iaveJUB.png)\n",
    "![](https://i.imgur.com/zZBVjHN.png)"
   ],
   "metadata": {
    "collapsed": false
   }
  },
  {
   "cell_type": "markdown",
   "source": [
    "## How to accomplish this in python code"
   ],
   "metadata": {
    "collapsed": false
   }
  },
  {
   "cell_type": "code",
   "execution_count": 1,
   "metadata": {
    "collapsed": true,
    "ExecuteTime": {
     "end_time": "2023-06-10T01:43:00.737366400Z",
     "start_time": "2023-06-10T01:42:57.535379300Z"
    }
   },
   "outputs": [],
   "source": [
    "# Import package and data\n",
    "import matplotlib.pyplot as plt\n",
    "import numpy as np\n",
    "import pandas as pd\n",
    "from sklearn import datasets\n",
    "\n",
    "digits = datasets.load_digits()\n",
    "X = digits['data'].copy()\n",
    "y = digits['target'].copy()"
   ]
  },
  {
   "cell_type": "code",
   "execution_count": 2,
   "outputs": [
    {
     "data": {
      "text/plain": "0    1617\n1     180\nName: count, dtype: int64"
     },
     "execution_count": 2,
     "metadata": {},
     "output_type": "execute_result"
    }
   ],
   "source": [
    "# Converted to a binary classification problem\n",
    "y[digits['target'] == 9] = 1\n",
    "y[digits['target'] != 9] = 0\n",
    "\n",
    "pd.DataFrame(y).value_counts()"
   ],
   "metadata": {
    "collapsed": false,
    "ExecuteTime": {
     "end_time": "2023-06-10T01:43:00.757730300Z",
     "start_time": "2023-06-10T01:43:00.709735700Z"
    }
   }
  },
  {
   "cell_type": "code",
   "execution_count": 3,
   "outputs": [
    {
     "data": {
      "text/plain": "((1347, 64), (450, 64), (1347,), (450,))"
     },
     "execution_count": 3,
     "metadata": {},
     "output_type": "execute_result"
    }
   ],
   "source": [
    "# Split data\n",
    "from sklearn.model_selection import train_test_split\n",
    "\n",
    "X_train, X_test, y_train, y_test = train_test_split(X, y, random_state=666)\n",
    "X_train.shape, X_test.shape, y_train.shape, y_test.shape"
   ],
   "metadata": {
    "collapsed": false,
    "ExecuteTime": {
     "end_time": "2023-06-10T01:43:00.853970100Z",
     "start_time": "2023-06-10T01:43:00.744910100Z"
    }
   }
  },
  {
   "cell_type": "code",
   "execution_count": 4,
   "outputs": [],
   "source": [
    "# logistic regression\n",
    "from sklearn.linear_model import LogisticRegression\n",
    "\n",
    "log_reg_er = LogisticRegression(max_iter=3000)\n",
    "log_reg_er.fit(X_train, y_train)\n",
    "log_reg_er.score(X_test, y_test)\n",
    "y_predict = log_reg_er.predict(X_test)"
   ],
   "metadata": {
    "collapsed": false,
    "ExecuteTime": {
     "end_time": "2023-06-10T01:43:01.039010300Z",
     "start_time": "2023-06-10T01:43:00.834926Z"
    }
   }
  },
  {
   "cell_type": "code",
   "execution_count": 5,
   "outputs": [
    {
     "data": {
      "text/plain": "array([[404,   1],\n       [  6,  39]])"
     },
     "execution_count": 5,
     "metadata": {},
     "output_type": "execute_result"
    }
   ],
   "source": [
    "# Calculate Confusion Matrix\n",
    "def calc_tn(y_true, y_predict):\n",
    "    return np.sum((y_true == 0) & (y_predict == 0))\n",
    "\n",
    "\n",
    "def calc_fn(y_true, y_predict):\n",
    "    return np.sum((y_true == 1) & (y_predict == 0))\n",
    "\n",
    "\n",
    "def calc_fp(y_true, y_predict):\n",
    "    return np.sum((y_true == 0) & (y_predict == 1))\n",
    "\n",
    "\n",
    "def calc_tp(y_true, y_predict):\n",
    "    return np.sum((y_true == 1) & (y_predict == 1))\n",
    "\n",
    "\n",
    "def calc_confusion_matrix(y_true: np.array, y_predict: np.array) -> np.array:\n",
    "    return np.array([\n",
    "        [calc_tn(y_true, y_predict), calc_fp(y_true, y_predict)],\n",
    "        [calc_fn(y_true, y_predict), calc_tp(y_true, y_predict)]\n",
    "    ])\n",
    "\n",
    "\n",
    "# calc_tn(y_test, y_predict)\n",
    "# calc_fn(y_test, y_predict)\n",
    "# calc_tp(y_test, y_predict)\n",
    "# calc_fp(y_test, y_predict)\n",
    "calc_confusion_matrix(y_test, y_predict)"
   ],
   "metadata": {
    "collapsed": false,
    "ExecuteTime": {
     "end_time": "2023-06-10T01:43:01.049391400Z",
     "start_time": "2023-06-10T01:43:01.042026700Z"
    }
   }
  },
  {
   "cell_type": "code",
   "execution_count": 6,
   "outputs": [
    {
     "data": {
      "text/plain": "0.8666666666666667"
     },
     "execution_count": 6,
     "metadata": {},
     "output_type": "execute_result"
    }
   ],
   "source": [
    "# Calculate the rate of precision and recall\n",
    "def calc_precision_score(y_true, y_predict):\n",
    "    tp = calc_tp(y_true, y_predict)\n",
    "    fp = calc_fp(y_true, y_predict)\n",
    "    try:\n",
    "        return tp / (tp + fp)\n",
    "    except ZeroDivisionError as e:\n",
    "        print(f'The ERROR is {e}.')\n",
    "        return 0.0\n",
    "\n",
    "\n",
    "def calc_recall_score(y_true, y_predict):\n",
    "    tp = calc_tp(y_true, y_predict)\n",
    "    fn = calc_fn(y_true, y_predict)\n",
    "    try:\n",
    "        return tp / (tp + fn)\n",
    "    except ZeroDivisionError as e:\n",
    "        print(f'The ERROR is {e}.')\n",
    "        return 0.0\n",
    "\n",
    "\n",
    "# calc_precision_score(y_test, y_predict)\n",
    "calc_recall_score(y_test, y_predict)"
   ],
   "metadata": {
    "collapsed": false,
    "ExecuteTime": {
     "end_time": "2023-06-10T01:43:01.228719500Z",
     "start_time": "2023-06-10T01:43:01.046390200Z"
    }
   }
  },
  {
   "cell_type": "markdown",
   "source": [
    "## scikit-learn中的混淆矩阵、精准率和召回率"
   ],
   "metadata": {
    "collapsed": false
   }
  },
  {
   "cell_type": "code",
   "execution_count": 7,
   "outputs": [
    {
     "data": {
      "text/plain": "array([[404,   1],\n       [  6,  39]], dtype=int64)"
     },
     "execution_count": 7,
     "metadata": {},
     "output_type": "execute_result"
    }
   ],
   "source": [
    "from sklearn.metrics import confusion_matrix\n",
    "\n",
    "confusion_matrix(y_test, y_predict)"
   ],
   "metadata": {
    "collapsed": false,
    "ExecuteTime": {
     "end_time": "2023-06-10T01:43:01.242302800Z",
     "start_time": "2023-06-10T01:43:01.225970400Z"
    }
   }
  },
  {
   "cell_type": "code",
   "execution_count": 8,
   "outputs": [
    {
     "data": {
      "text/plain": "0.975"
     },
     "execution_count": 8,
     "metadata": {},
     "output_type": "execute_result"
    }
   ],
   "source": [
    "from sklearn.metrics import precision_score\n",
    "\n",
    "precision_score(y_test, y_predict)"
   ],
   "metadata": {
    "collapsed": false,
    "ExecuteTime": {
     "end_time": "2023-06-10T01:43:01.242302800Z",
     "start_time": "2023-06-10T01:43:01.230725100Z"
    }
   }
  },
  {
   "cell_type": "code",
   "execution_count": 9,
   "outputs": [
    {
     "data": {
      "text/plain": "0.8666666666666667"
     },
     "execution_count": 9,
     "metadata": {},
     "output_type": "execute_result"
    }
   ],
   "source": [
    "from sklearn.metrics import recall_score\n",
    "\n",
    "recall_score(y_test, y_predict)"
   ],
   "metadata": {
    "collapsed": false,
    "ExecuteTime": {
     "end_time": "2023-06-10T01:43:01.243306Z",
     "start_time": "2023-06-10T01:43:01.236989800Z"
    }
   }
  },
  {
   "cell_type": "markdown",
   "source": [
    "\n",
    "## F1 Score\n",
    "\n",
    "F1 Score 是precision和recall的调和平均值。\n",
    "\n",
    "![](https://i.imgur.com/I7jlxkU.png)\n",
    "\n",
    "![](https://i.imgur.com/VrpWDF2.png)\n",
    "\n",
    "![](https://i.imgur.com/4zbrOlQ.png)"
   ],
   "metadata": {
    "collapsed": false
   }
  },
  {
   "cell_type": "code",
   "execution_count": 10,
   "outputs": [
    {
     "data": {
      "text/plain": "0.9176470588235294"
     },
     "execution_count": 10,
     "metadata": {},
     "output_type": "execute_result"
    }
   ],
   "source": [
    "from sklearn.metrics import f1_score\n",
    "\n",
    "f1_score(y_test, y_predict)"
   ],
   "metadata": {
    "collapsed": false,
    "ExecuteTime": {
     "end_time": "2023-06-10T01:43:01.353663600Z",
     "start_time": "2023-06-10T01:43:01.243814600Z"
    }
   }
  },
  {
   "cell_type": "markdown",
   "source": [
    "## Precision-Recall的平衡\n",
    "\n",
    "![](https://i.imgur.com/uH2F7P1.png)\n",
    "\n",
    "![](https://i.imgur.com/xS4d8tB.png)\n"
   ],
   "metadata": {
    "collapsed": false
   }
  },
  {
   "cell_type": "code",
   "execution_count": 11,
   "outputs": [
    {
     "data": {
      "text/plain": "array([-1.75515071e+01, -2.78874598e+01, -1.75013365e+01, -8.00872233e+01,\n       -4.80499991e+01, -2.00572226e+01, -4.08556211e+01, -2.68273123e+01,\n       -1.20808121e-01, -2.70595213e+01, -6.60846331e+01, -4.54668406e+01,\n       -2.88053773e+01, -4.21355965e+01, -3.86205056e+01, -3.00145671e+01,\n       -3.73113177e+01, -7.52144663e+01, -4.01047436e+01, -1.50633874e+01,\n       -7.65402852e+00, -7.52543646e+01, -1.44260336e+01, -4.63433357e+01,\n       -4.39376754e+00, -5.16443774e+01, -1.06128805e+01, -3.02586938e+01,\n       -2.09446226e+01, -1.47898428e+01, -1.57166349e+01, -2.39878975e+01,\n       -3.87300924e+01, -2.25902935e+01, -8.75265812e+00, -3.46516419e+00,\n       -2.50997879e+01, -2.89270406e+01, -3.11699615e+01, -2.07064636e+01,\n       -2.33828822e+01, -6.08709260e+01, -3.97243887e+01, -6.10379721e+01,\n       -1.99013923e+01, -9.13875685e+00, -1.73316164e+01, -1.99796794e+01,\n       -2.92044236e+01, -3.00494115e+01,  4.07684919e+00,  1.14987064e+01,\n       -3.02656792e+01, -3.19796528e+01, -2.21099854e+01, -3.39006047e+01,\n       -1.18675357e+01, -5.57243709e+01, -3.94494059e+01,  1.78283910e+01,\n       -8.61651848e+00, -2.88429218e+01, -1.44985722e+01, -8.38850266e+00,\n       -4.87786790e+01, -4.33902971e+01, -1.62792383e+01, -1.70735424e+01,\n       -4.03642264e+01, -1.40087808e+00, -1.18611519e+01, -1.82607367e+01,\n       -2.34714982e+01, -4.23204784e+01, -9.46698836e+00, -2.74620557e+01,\n       -3.27130442e+01, -3.04381070e+01, -5.47950932e+01, -1.71102963e+01,\n        5.76000184e+00, -2.24646004e+01, -6.45804370e+01, -4.87139269e+01,\n       -3.56978951e+01, -3.02923178e+01, -2.27326122e+01, -7.09846491e+00,\n       -4.68984853e+01, -6.79523179e+01, -1.60156883e+01, -2.40317160e+01,\n       -1.19677437e+01, -1.80866717e+01, -5.99107230e+01, -4.05885419e+01,\n       -4.03835535e+01, -4.10102467e+01, -1.64421907e+01, -5.50348020e+01,\n       -1.44889729e+01, -5.43441011e+01, -2.79998417e+01, -7.03480021e+01,\n       -6.27893636e+01, -9.22023535e+00, -3.24506192e+01, -3.92328361e+01,\n       -2.88081345e+01, -1.03134896e+01, -2.24842449e+01, -2.02082200e+01,\n        1.51236039e+01, -2.17878453e+01, -3.34339408e+01, -1.72370973e+01,\n       -7.08308511e+01, -2.24959471e+01, -4.13324219e+01, -2.42395925e+01,\n       -1.24223619e+01, -4.25350285e+01,  9.85149831e-01, -5.27664016e+01,\n       -3.47227062e+01, -1.16971075e+01, -7.24200290e+01, -5.50644772e+01,\n       -2.38579841e+01, -1.87492582e+01, -6.99630253e+01, -1.29963343e+01,\n       -3.60294775e+01, -4.69343728e+01,  1.12244920e+00, -1.83169452e+01,\n       -1.72400094e+01, -3.06987177e+01, -2.87622992e+01, -1.56007166e+01,\n       -1.16097875e+01,  3.86314979e+00,  1.61049658e+00,  1.64144187e+00,\n       -3.95409582e+00, -3.23438741e+01,  1.18361296e+01, -7.28005319e+01,\n       -7.39662525e+01, -3.92440808e+01, -1.36169792e+01, -4.01073943e+01,\n       -6.27482319e+01, -3.50026491e+01, -6.69492150e+01, -6.19367957e+00,\n       -5.86067114e+00, -1.88084940e+01, -3.45847054e+01, -2.06528027e+01,\n       -4.45293099e+01, -2.83374530e+01, -3.03052926e+01, -6.97754598e+01,\n       -1.85179376e+01,  1.01958907e+01, -5.65536673e+01, -8.64432426e+00,\n       -4.25430183e+01, -1.67676708e+01, -3.23742036e+00, -1.24680933e+01,\n       -2.90042738e+01, -5.14413484e+01, -1.33597320e+01, -1.97367826e+01,\n       -7.55264692e+00, -3.20856744e+01, -1.64172110e+01,  4.35384217e+00,\n       -4.20859691e+01, -9.63008318e+00, -2.37317031e+01, -1.21131960e+01,\n       -1.99844225e+01, -7.96900172e+01, -3.72840722e+00, -2.03195673e+01,\n       -2.20953298e+01, -2.05972158e+01, -2.48075874e+01, -3.58390886e+01,\n       -3.78804515e+01, -2.80766739e+01, -2.48792259e+01, -1.96040118e+01,\n       -9.53295156e+00, -2.26082415e+01, -4.33139684e+01, -3.99408280e+01,\n       -2.10586762e+01, -6.20048057e+01, -2.28732714e+01, -5.07098197e+01,\n       -1.37064731e+01, -2.21401991e+01,  2.15965969e-02, -3.83444797e+01,\n       -7.28327805e+00,  4.75961683e-01, -7.61349064e+00, -1.03664189e+01,\n        1.04759252e+01, -1.09232926e+01, -3.76654622e+01, -4.18642949e+01,\n       -1.46098975e+00, -1.10857727e+01, -2.99108649e+01, -4.28847619e+01,\n       -1.70159674e+01, -1.90449227e+01, -1.80252426e+01, -2.09880370e+01,\n       -1.81688068e+01, -1.55466983e+01, -3.67817994e+01, -3.31342648e+01,\n       -1.33116123e+01, -6.03043852e+01, -2.12144928e+01, -1.41415425e+01,\n       -2.76240523e+01, -3.43061584e+01, -7.18835568e-01, -3.40769793e+01,\n       -1.27993319e+01, -1.36732183e+01, -8.08046605e+00, -4.21092968e+01,\n       -1.83591659e+01, -6.40511442e+01, -4.03957535e+01, -5.48393087e+01,\n       -3.30966196e+01, -1.91850322e+01, -2.50992418e+01, -6.32398463e+01,\n        5.56555721e+00, -8.64354295e+00, -2.86752329e+01, -1.95397386e+01,\n       -5.18187853e+01, -1.72160235e+01, -1.72021929e+01, -3.38551340e+01,\n       -1.06168240e+01, -9.95443793e+00, -6.66698923e+01, -5.62065149e+00,\n       -5.84048658e+00, -4.11730396e+01, -1.93731296e+01, -5.87083177e+01,\n        1.42765492e+01, -5.53467567e+01,  9.63556750e+00, -2.31926049e+01,\n       -2.72026388e+01, -1.77211766e+01, -7.66646273e+01, -1.43338592e+01,\n        1.01599723e+01, -2.07903929e+01, -2.67696468e+01, -2.36402670e+01,\n       -2.02659252e+01, -3.40797266e+01, -5.88099421e+00,  8.95314340e+00,\n        9.68724618e+00,  1.14292657e+01, -3.15741550e+01, -1.50834384e+01,\n       -4.97560587e+01, -3.49279216e+01,  1.25665825e+00, -7.74205479e+01,\n       -9.42852760e+00, -1.58485103e+01, -1.15762166e+01, -4.48288857e+01,\n       -1.78604001e+01, -1.51528397e+01, -2.12737347e+01, -1.99894905e+01,\n       -5.21569972e+00, -1.33366223e+01, -1.98040404e+01, -6.94775404e+01,\n       -1.07161440e+01, -2.41626679e+01, -1.78758700e+01, -2.48863731e+01,\n       -2.00312857e+01, -1.51561552e+01, -1.70268383e+01, -2.95887197e+01,\n        5.43802012e+00, -5.97676744e+00, -2.85781153e+01, -9.51769212e+00,\n       -4.69232156e+01, -3.12195906e+01, -5.17692389e+01, -2.81654230e+01,\n       -1.85434843e+01, -3.11223326e+01, -5.13999603e+01, -6.18458042e+01,\n        1.00768514e+01,  6.95080535e+00, -2.03640736e+01, -3.08420555e+00,\n        7.77787449e+00, -2.64092470e+01, -5.59779595e+01, -7.80710592e+00,\n       -2.88088511e+01, -2.33519361e+01,  3.50509110e+00, -7.89291914e+01,\n       -3.17489009e+01, -3.95083913e+01, -3.15157973e+01, -4.92862876e+01,\n       -1.65352265e+01, -5.20029011e+01, -6.89236774e+00, -1.97360654e+01,\n       -6.62021927e+01, -7.03885085e+00, -2.20768199e+01,  2.08826250e+01,\n       -1.46561149e+01, -8.72987684e+00, -1.13053908e+01, -2.18459818e+01,\n       -4.87863007e+01, -5.30294092e+01, -1.82210546e+01, -1.39967030e+01,\n        3.52493486e+00, -1.84221448e+00,  7.34566985e+00, -1.47615197e+01,\n       -3.30317579e+01, -2.45944358e+01,  1.49953760e+01, -1.85755824e+01,\n        1.06841800e+01, -2.59471615e+01,  8.24392388e+00, -1.60475516e+01,\n       -5.55591029e+01, -4.16522215e+01, -2.03875444e+01, -3.53636922e+01,\n       -2.21406291e+01, -2.32603582e+01, -1.41699713e+01, -1.56150177e+01,\n       -2.46682098e+01, -7.48994774e+00, -2.67998079e+01, -2.42106484e+01,\n       -2.77725113e+01, -1.23780160e+01, -2.30382616e+01, -2.17255570e+01,\n       -2.28805841e+01,  1.33565776e+01, -1.71344812e+01, -3.53375394e+01,\n       -8.67519796e+00, -3.45690739e+01, -1.94762899e+01, -5.69644551e+01,\n       -2.99300329e+01, -4.33882919e+01, -2.56819963e+01, -1.61122012e+01,\n       -6.78219948e+01, -3.20140389e+01, -3.30341799e+01, -1.48116145e+01,\n       -4.15979469e+01, -1.52122213e+01, -6.72587864e+01, -1.02301209e+01,\n       -4.25534415e+01, -3.81755493e+01, -1.68767764e+01, -2.79984407e+01,\n       -2.13653534e+01, -3.47056220e+01, -1.08218289e+01, -2.34857961e+01,\n       -3.21079359e+01, -1.78647814e+01, -3.35684934e+01, -3.97830556e+01,\n       -1.82498711e+01,  9.31852244e+00, -2.27227574e+01, -7.76564827e+00,\n       -2.02261758e+01, -2.77199894e+01, -4.16608710e+01, -2.64878264e+01,\n       -1.54472612e+01, -4.89514402e+01, -2.70167200e+01, -4.57754699e+01,\n       -5.74914951e+01, -9.92478902e+00, -3.76928377e+01,  2.27343653e+00,\n        1.83208209e+01,  5.19730579e+00, -2.76114313e+01, -5.64228427e+01,\n       -1.79596541e+01, -3.45598662e+00, -3.83875210e+01, -2.47481794e+01,\n       -5.57891365e+01, -2.56052603e+01, -3.17649804e+01, -2.86946896e+01,\n       -4.36005147e+01, -2.39325179e+01, -6.02825905e+00, -1.73374578e+01,\n       -2.21206499e+01, -2.88051851e+01, -2.73627073e+01, -6.20792998e+01,\n       -4.41917975e+01, -1.26381449e+01])"
     },
     "execution_count": 11,
     "metadata": {},
     "output_type": "execute_result"
    }
   ],
   "source": [
    "# 获得X_test所有样本的score值\n",
    "log_reg_er.decision_function(X_test)"
   ],
   "metadata": {
    "collapsed": false,
    "ExecuteTime": {
     "end_time": "2023-06-10T01:43:01.392377300Z",
     "start_time": "2023-06-10T01:43:01.249626100Z"
    }
   }
  },
  {
   "cell_type": "code",
   "execution_count": 12,
   "outputs": [
    {
     "data": {
      "text/plain": "array([-17.55150712, -27.88745979, -17.50133645, -80.08722328,\n       -48.04999907, -20.05722263, -40.85562114, -26.82731226,\n        -0.12080812, -27.05952132])"
     },
     "execution_count": 12,
     "metadata": {},
     "output_type": "execute_result"
    }
   ],
   "source": [
    "# 前10个样本的score值都为负，因此其对应的predict应该都为0.\n",
    "log_reg_er.decision_function(X_test)[:10]"
   ],
   "metadata": {
    "collapsed": false,
    "ExecuteTime": {
     "end_time": "2023-06-10T01:43:01.392893600Z",
     "start_time": "2023-06-10T01:43:01.256478600Z"
    }
   }
  },
  {
   "cell_type": "code",
   "execution_count": 13,
   "outputs": [
    {
     "data": {
      "text/plain": "array([0, 0, 0, 0, 0, 0, 0, 0, 0, 0])"
     },
     "execution_count": 13,
     "metadata": {},
     "output_type": "execute_result"
    }
   ],
   "source": [
    "log_reg_er.predict(X_test)[:10]"
   ],
   "metadata": {
    "collapsed": false,
    "ExecuteTime": {
     "end_time": "2023-06-10T01:43:01.392893600Z",
     "start_time": "2023-06-10T01:43:01.260975600Z"
    }
   }
  },
  {
   "cell_type": "code",
   "execution_count": 14,
   "outputs": [
    {
     "data": {
      "text/plain": "array([0, 0, 0, 0, 0, 0, 0, 0, 0, 0, 0, 0, 0, 0, 0, 0, 0, 0, 0, 0, 0, 0,\n       0, 0, 0, 0, 0, 0, 0, 0, 0, 0, 0, 0, 0, 0, 0, 0, 0, 0, 0, 0, 0, 0,\n       0, 0, 0, 0, 0, 0, 0, 1, 0, 0, 0, 0, 0, 0, 0, 1, 0, 0, 0, 0, 0, 0,\n       0, 0, 0, 0, 0, 0, 0, 0, 0, 0, 0, 0, 0, 0, 1, 0, 0, 0, 0, 0, 0, 0,\n       0, 0, 0, 0, 0, 0, 0, 0, 0, 0, 0, 0, 0, 0, 0, 0, 0, 0, 0, 0, 0, 0,\n       0, 0, 1, 0, 0, 0, 0, 0, 0, 0, 0, 0, 0, 0, 0, 0, 0, 0, 0, 0, 0, 0,\n       0, 0, 0, 0, 0, 0, 0, 0, 0, 0, 0, 0, 0, 0, 1, 0, 0, 0, 0, 0, 0, 0,\n       0, 0, 0, 0, 0, 0, 0, 0, 0, 0, 0, 1, 0, 0, 0, 0, 0, 0, 0, 0, 0, 0,\n       0, 0, 0, 0, 0, 0, 0, 0, 0, 0, 0, 0, 0, 0, 0, 0, 0, 0, 0, 0, 0, 0,\n       0, 0, 0, 0, 0, 0, 0, 0, 0, 0, 0, 0, 0, 0, 1, 0, 0, 0, 0, 0, 0, 0,\n       0, 0, 0, 0, 0, 0, 0, 0, 0, 0, 0, 0, 0, 0, 0, 0, 0, 0, 0, 0, 0, 0,\n       0, 0, 0, 0, 0, 0, 1, 0, 0, 0, 0, 0, 0, 0, 0, 0, 0, 0, 0, 0, 0, 0,\n       1, 0, 1, 0, 0, 0, 0, 0, 1, 0, 0, 0, 0, 0, 0, 1, 1, 1, 0, 0, 0, 0,\n       0, 0, 0, 0, 0, 0, 0, 0, 0, 0, 0, 0, 0, 0, 0, 0, 0, 0, 0, 0, 0, 0,\n       1, 0, 0, 0, 0, 0, 0, 0, 0, 0, 0, 0, 1, 1, 0, 0, 1, 0, 0, 0, 0, 0,\n       0, 0, 0, 0, 0, 0, 0, 0, 0, 0, 0, 0, 0, 1, 0, 0, 0, 0, 0, 0, 0, 0,\n       0, 0, 1, 0, 0, 0, 1, 0, 1, 0, 1, 0, 0, 0, 0, 0, 0, 0, 0, 0, 0, 0,\n       0, 0, 0, 0, 0, 0, 0, 1, 0, 0, 0, 0, 0, 0, 0, 0, 0, 0, 0, 0, 0, 0,\n       0, 0, 0, 0, 0, 0, 0, 0, 0, 0, 0, 0, 0, 0, 0, 0, 0, 1, 0, 0, 0, 0,\n       0, 0, 0, 0, 0, 0, 0, 0, 0, 0, 1, 1, 0, 0, 0, 0, 0, 0, 0, 0, 0, 0,\n       0, 0, 0, 0, 0, 0, 0, 0, 0, 0])"
     },
     "execution_count": 14,
     "metadata": {},
     "output_type": "execute_result"
    }
   ],
   "source": [
    "# 将score值的阈值设置为5，默认为0.\n",
    "y_predict_02 = (log_reg_er.decision_function(X_test) > 5).astype('int')\n",
    "y_predict_02"
   ],
   "metadata": {
    "collapsed": false,
    "ExecuteTime": {
     "end_time": "2023-06-10T01:43:01.418068600Z",
     "start_time": "2023-06-10T01:43:01.266567100Z"
    }
   }
  },
  {
   "cell_type": "code",
   "execution_count": 15,
   "outputs": [
    {
     "data": {
      "text/plain": "array([[405,   0],\n       [ 18,  27]], dtype=int64)"
     },
     "execution_count": 15,
     "metadata": {},
     "output_type": "execute_result"
    }
   ],
   "source": [
    "confusion_matrix(y_test, y_predict_02)"
   ],
   "metadata": {
    "collapsed": false,
    "ExecuteTime": {
     "end_time": "2023-06-10T01:43:01.419068800Z",
     "start_time": "2023-06-10T01:43:01.271437900Z"
    }
   }
  },
  {
   "cell_type": "code",
   "execution_count": 16,
   "outputs": [
    {
     "data": {
      "text/plain": "1.0"
     },
     "execution_count": 16,
     "metadata": {},
     "output_type": "execute_result"
    }
   ],
   "source": [
    "# 精准率得到了大大提高\n",
    "precision_score(y_test, y_predict_02)"
   ],
   "metadata": {
    "collapsed": false,
    "ExecuteTime": {
     "end_time": "2023-06-10T01:43:01.419068800Z",
     "start_time": "2023-06-10T01:43:01.276510400Z"
    }
   }
  },
  {
   "cell_type": "code",
   "execution_count": 17,
   "outputs": [
    {
     "data": {
      "text/plain": "0.6"
     },
     "execution_count": 17,
     "metadata": {},
     "output_type": "execute_result"
    }
   ],
   "source": [
    "# 召回率大大下降\n",
    "recall_score(y_test, y_predict_02)"
   ],
   "metadata": {
    "collapsed": false,
    "ExecuteTime": {
     "end_time": "2023-06-10T01:43:01.420070Z",
     "start_time": "2023-06-10T01:43:01.282267300Z"
    }
   }
  },
  {
   "cell_type": "code",
   "execution_count": 18,
   "outputs": [
    {
     "data": {
      "text/plain": "0.7499999999999999"
     },
     "execution_count": 18,
     "metadata": {},
     "output_type": "execute_result"
    }
   ],
   "source": [
    "f1_score(y_test, y_predict_02)"
   ],
   "metadata": {
    "collapsed": false,
    "ExecuteTime": {
     "end_time": "2023-06-10T01:43:01.421102400Z",
     "start_time": "2023-06-10T01:43:01.287076300Z"
    }
   }
  },
  {
   "cell_type": "code",
   "execution_count": 19,
   "outputs": [
    {
     "data": {
      "text/plain": "array([0, 0, 0, 0, 0, 0, 0, 0, 1, 0, 0, 0, 0, 0, 0, 0, 0, 0, 0, 0, 0, 0,\n       0, 0, 1, 0, 0, 0, 0, 0, 0, 0, 0, 0, 0, 1, 0, 0, 0, 0, 0, 0, 0, 0,\n       0, 0, 0, 0, 0, 0, 1, 1, 0, 0, 0, 0, 0, 0, 0, 1, 0, 0, 0, 0, 0, 0,\n       0, 0, 0, 1, 0, 0, 0, 0, 0, 0, 0, 0, 0, 0, 1, 0, 0, 0, 0, 0, 0, 0,\n       0, 0, 0, 0, 0, 0, 0, 0, 0, 0, 0, 0, 0, 0, 0, 0, 0, 0, 0, 0, 0, 0,\n       0, 0, 1, 0, 0, 0, 0, 0, 0, 0, 0, 0, 1, 0, 0, 0, 0, 0, 0, 0, 0, 0,\n       0, 0, 1, 0, 0, 0, 0, 0, 0, 1, 1, 1, 1, 0, 1, 0, 0, 0, 0, 0, 0, 0,\n       0, 0, 0, 0, 0, 0, 0, 0, 0, 0, 0, 1, 0, 0, 0, 0, 1, 0, 0, 0, 0, 0,\n       0, 0, 0, 1, 0, 0, 0, 0, 0, 0, 1, 0, 0, 0, 0, 0, 0, 0, 0, 0, 0, 0,\n       0, 0, 0, 0, 0, 0, 0, 0, 1, 0, 0, 1, 0, 0, 1, 0, 0, 0, 1, 0, 0, 0,\n       0, 0, 0, 0, 0, 0, 0, 0, 0, 0, 0, 0, 0, 0, 1, 0, 0, 0, 0, 0, 0, 0,\n       0, 0, 0, 0, 0, 0, 1, 0, 0, 0, 0, 0, 0, 0, 0, 0, 0, 0, 0, 0, 0, 0,\n       1, 0, 1, 0, 0, 0, 0, 0, 1, 0, 0, 0, 0, 0, 0, 1, 1, 1, 0, 0, 0, 0,\n       1, 0, 0, 0, 0, 0, 0, 0, 0, 0, 0, 0, 0, 0, 0, 0, 0, 0, 0, 0, 0, 0,\n       1, 0, 0, 0, 0, 0, 0, 0, 0, 0, 0, 0, 1, 1, 0, 1, 1, 0, 0, 0, 0, 0,\n       1, 0, 0, 0, 0, 0, 0, 0, 0, 0, 0, 0, 0, 1, 0, 0, 0, 0, 0, 0, 0, 0,\n       1, 1, 1, 0, 0, 0, 1, 0, 1, 0, 1, 0, 0, 0, 0, 0, 0, 0, 0, 0, 0, 0,\n       0, 0, 0, 0, 0, 0, 0, 1, 0, 0, 0, 0, 0, 0, 0, 0, 0, 0, 0, 0, 0, 0,\n       0, 0, 0, 0, 0, 0, 0, 0, 0, 0, 0, 0, 0, 0, 0, 0, 0, 1, 0, 0, 0, 0,\n       0, 0, 0, 0, 0, 0, 0, 0, 0, 1, 1, 1, 0, 0, 0, 1, 0, 0, 0, 0, 0, 0,\n       0, 0, 0, 0, 0, 0, 0, 0, 0, 0])"
     },
     "execution_count": 19,
     "metadata": {},
     "output_type": "execute_result"
    }
   ],
   "source": [
    "# 将score值的阈值设置为5，默认为0.\n",
    "y_predict_03 = (log_reg_er.decision_function(X_test) > -5).astype('int')\n",
    "y_predict_03"
   ],
   "metadata": {
    "collapsed": false,
    "ExecuteTime": {
     "end_time": "2023-06-10T01:43:01.421102400Z",
     "start_time": "2023-06-10T01:43:01.294146800Z"
    }
   }
  },
  {
   "cell_type": "code",
   "execution_count": 20,
   "outputs": [
    {
     "data": {
      "text/plain": "array([[393,  12],\n       [  5,  40]], dtype=int64)"
     },
     "execution_count": 20,
     "metadata": {},
     "output_type": "execute_result"
    }
   ],
   "source": [
    "confusion_matrix(y_test, y_predict_03)"
   ],
   "metadata": {
    "collapsed": false,
    "ExecuteTime": {
     "end_time": "2023-06-10T01:43:01.421102400Z",
     "start_time": "2023-06-10T01:43:01.299820Z"
    }
   }
  },
  {
   "cell_type": "code",
   "execution_count": 21,
   "outputs": [
    {
     "data": {
      "text/plain": "0.7692307692307693"
     },
     "execution_count": 21,
     "metadata": {},
     "output_type": "execute_result"
    }
   ],
   "source": [
    "precision_score(y_test, y_predict_03)"
   ],
   "metadata": {
    "collapsed": false,
    "ExecuteTime": {
     "end_time": "2023-06-10T01:43:01.421102400Z",
     "start_time": "2023-06-10T01:43:01.305360300Z"
    }
   }
  },
  {
   "cell_type": "code",
   "execution_count": 22,
   "outputs": [
    {
     "data": {
      "text/plain": "0.8888888888888888"
     },
     "execution_count": 22,
     "metadata": {},
     "output_type": "execute_result"
    }
   ],
   "source": [
    "recall_score(y_test, y_predict_03)"
   ],
   "metadata": {
    "collapsed": false,
    "ExecuteTime": {
     "end_time": "2023-06-10T01:43:01.421102400Z",
     "start_time": "2023-06-10T01:43:01.310192Z"
    }
   }
  },
  {
   "cell_type": "code",
   "execution_count": 23,
   "outputs": [
    {
     "data": {
      "text/plain": "0.8247422680412372"
     },
     "execution_count": 23,
     "metadata": {},
     "output_type": "execute_result"
    }
   ],
   "source": [
    "f1_score(y_test, y_predict_03)"
   ],
   "metadata": {
    "collapsed": false,
    "ExecuteTime": {
     "end_time": "2023-06-10T01:43:01.422102300Z",
     "start_time": "2023-06-10T01:43:01.317968100Z"
    }
   }
  },
  {
   "cell_type": "code",
   "execution_count": 24,
   "outputs": [
    {
     "data": {
      "text/plain": "<Figure size 640x480 with 1 Axes>",
      "image/png": "[encoded data removed]"
     },
     "metadata": {},
     "output_type": "display_data"
    }
   ],
   "source": [
    "precisions, recalls, decisions = [], [], log_reg_er.decision_function(X_test)\n",
    "thresholds = np.arange(np.min(decisions), np.max(decisions), 0.1)\n",
    "\n",
    "for threshold in thresholds:\n",
    "    y_predict = (log_reg_er.decision_function(X_test) > threshold).astype('int')\n",
    "    precisions.append(precision_score(y_test, y_predict))\n",
    "    recalls.append(recall_score(y_test, y_predict))\n",
    "\n",
    "plt.plot(thresholds, precisions, label='Precision Score')\n",
    "plt.plot(thresholds, recalls, label='Recall Score')\n",
    "plt.xlabel('Decisions')\n",
    "plt.ylabel('%')\n",
    "plt.legend()\n",
    "plt.show()"
   ],
   "metadata": {
    "collapsed": false,
    "ExecuteTime": {
     "end_time": "2023-06-10T01:43:02.959170300Z",
     "start_time": "2023-06-10T01:43:01.325020400Z"
    }
   }
  },
  {
   "cell_type": "code",
   "execution_count": 25,
   "outputs": [
    {
     "data": {
      "text/plain": "<Figure size 640x480 with 1 Axes>",
      "image/png": "[encoded data removed]"
     },
     "metadata": {},
     "output_type": "display_data"
    }
   ],
   "source": [
    "# Precision-Recall曲线\n",
    "plt.plot(precisions, recalls, label='Recall Score')\n",
    "plt.xlabel('Precision Score')\n",
    "plt.ylabel('Recall Score')\n",
    "plt.legend()\n",
    "plt.show()"
   ],
   "metadata": {
    "collapsed": false,
    "ExecuteTime": {
     "end_time": "2023-06-10T01:43:03.047643Z",
     "start_time": "2023-06-10T01:43:02.959170300Z"
    }
   }
  },
  {
   "cell_type": "code",
   "execution_count": 26,
   "outputs": [],
   "source": [
    "# scikit-learn中的Precision-Recall曲线\n",
    "from sklearn.metrics import precision_recall_curve\n",
    "\n",
    "precisions, recalls, thresholds = precision_recall_curve(y_test, decisions)"
   ],
   "metadata": {
    "collapsed": false,
    "ExecuteTime": {
     "end_time": "2023-06-10T01:43:03.089030200Z",
     "start_time": "2023-06-10T01:43:03.049148900Z"
    }
   }
  },
  {
   "cell_type": "code",
   "execution_count": 27,
   "outputs": [
    {
     "data": {
      "text/plain": "((451,), (451,), (450,))"
     },
     "execution_count": 27,
     "metadata": {},
     "output_type": "execute_result"
    }
   ],
   "source": [
    "# The last precision and recall values are 1. and 0. respectively and do not have a corresponding threshold.\n",
    "precisions.shape, recalls.shape, thresholds.shape"
   ],
   "metadata": {
    "collapsed": false,
    "ExecuteTime": {
     "end_time": "2023-06-10T01:43:03.090030Z",
     "start_time": "2023-06-10T01:43:03.054381Z"
    }
   }
  },
  {
   "cell_type": "code",
   "execution_count": 28,
   "outputs": [
    {
     "data": {
      "text/plain": "<Figure size 640x480 with 1 Axes>",
      "image/png": "[encoded data removed]"
     },
     "metadata": {},
     "output_type": "display_data"
    }
   ],
   "source": [
    "plt.plot(thresholds, precisions[:-1], label='Precision Score')\n",
    "plt.plot(thresholds, recalls[:-1], label='Recall Score')\n",
    "plt.xlabel('Decisions')\n",
    "plt.ylabel('%')\n",
    "plt.legend()\n",
    "plt.show()"
   ],
   "metadata": {
    "collapsed": false,
    "ExecuteTime": {
     "end_time": "2023-06-10T01:43:03.202068Z",
     "start_time": "2023-06-10T01:43:03.065475400Z"
    }
   }
  },
  {
   "cell_type": "code",
   "execution_count": 29,
   "outputs": [
    {
     "data": {
      "text/plain": "<Figure size 640x480 with 1 Axes>",
      "image/png": "[encoded data removed]"
     },
     "metadata": {},
     "output_type": "display_data"
    }
   ],
   "source": [
    "# Precision-Recall曲线\n",
    "plt.plot(precisions, recalls, label='Recall Score')\n",
    "plt.xlabel('Precision Score')\n",
    "plt.ylabel('Recall Score')\n",
    "plt.legend()\n",
    "plt.show()"
   ],
   "metadata": {
    "collapsed": false,
    "ExecuteTime": {
     "end_time": "2023-06-10T01:43:03.278835900Z",
     "start_time": "2023-06-10T01:43:03.165161500Z"
    }
   }
  },
  {
   "cell_type": "markdown",
   "source": [
    "## ROC曲线\n",
    "\n",
    "Receiver Operation Characteristic Curve\n",
    "\n",
    "描述TPR和FPR之间的关系\n",
    "\n",
    "![](https://i.imgur.com/IrJ5FVM.png)\n",
    "\n",
    "![](https://i.imgur.com/U4sfViF.png)"
   ],
   "metadata": {
    "collapsed": false
   }
  },
  {
   "cell_type": "code",
   "execution_count": 30,
   "outputs": [],
   "source": [
    "def calc_tpr(y_true, y_predict):\n",
    "    tp = calc_tp(y_true, y_predict)\n",
    "    fn = calc_fn(y_true, y_predict)\n",
    "    try:\n",
    "        return tp / (tp + fn)\n",
    "    except ZeroDivisionError as e:\n",
    "        print(f'The ERROR is {e}.')\n",
    "        return 0.0\n",
    "\n",
    "\n",
    "def calc_fpr(y_true, y_predict):\n",
    "    fp = calc_fp(y_true, y_predict)\n",
    "    tn = calc_tn(y_true, y_predict)\n",
    "    try:\n",
    "        return fp / (fp + tn)\n",
    "    except ZeroDivisionError as e:\n",
    "        print(f'The ERROR is {e}.')\n",
    "        return 0.0"
   ],
   "metadata": {
    "collapsed": false,
    "ExecuteTime": {
     "end_time": "2023-06-10T01:43:03.278835900Z",
     "start_time": "2023-06-10T01:43:03.260441700Z"
    }
   }
  },
  {
   "cell_type": "code",
   "execution_count": 31,
   "outputs": [
    {
     "data": {
      "text/plain": "<Figure size 640x480 with 1 Axes>",
      "image/png": "[encoded data removed]"
     },
     "metadata": {},
     "output_type": "display_data"
    }
   ],
   "source": [
    "tprs, fprs = [], []\n",
    "thresholds = np.arange(np.min(decisions), np.max(decisions), 0.1)\n",
    "\n",
    "for threshold in thresholds:\n",
    "    y_predict = (log_reg_er.decision_function(X_test) > threshold).astype('int')\n",
    "    tprs.append(calc_tpr(y_test, y_predict))\n",
    "    fprs.append(calc_fpr(y_test, y_predict))\n",
    "\n",
    "plt.show()\n",
    "# Precision-Recall曲线\n",
    "plt.plot(fprs, tprs, label='Recall Score')\n",
    "plt.xlabel('Precision Score')\n",
    "plt.ylabel('Recall Score')\n",
    "plt.legend()\n",
    "plt.show()"
   ],
   "metadata": {
    "collapsed": false,
    "ExecuteTime": {
     "end_time": "2023-06-10T01:43:03.499937500Z",
     "start_time": "2023-06-10T01:43:03.264970400Z"
    }
   }
  },
  {
   "cell_type": "code",
   "execution_count": 32,
   "outputs": [
    {
     "data": {
      "text/plain": "<Figure size 640x480 with 1 Axes>",
      "image/png": "[encoded data removed]"
     },
     "metadata": {},
     "output_type": "display_data"
    }
   ],
   "source": [
    "# scikit-learn中的ROC\n",
    "from sklearn.metrics import roc_curve\n",
    "\n",
    "fprs, tprs, thresholds = roc_curve(y_test, decisions)\n",
    "\n",
    "plt.plot(fprs, tprs)\n",
    "plt.show()"
   ],
   "metadata": {
    "collapsed": false,
    "ExecuteTime": {
     "end_time": "2023-06-10T01:43:03.624152200Z",
     "start_time": "2023-06-10T01:43:03.492912900Z"
    }
   }
  },
  {
   "cell_type": "code",
   "execution_count": 33,
   "outputs": [
    {
     "data": {
      "text/plain": "0.9868861454046639"
     },
     "execution_count": 33,
     "metadata": {},
     "output_type": "execute_result"
    }
   ],
   "source": [
    "# Calculate the area of under the ROC curve\n",
    "from sklearn.metrics import roc_auc_score\n",
    "\n",
    "roc_auc_score(y_test, decisions)"
   ],
   "metadata": {
    "collapsed": false,
    "ExecuteTime": {
     "end_time": "2023-06-10T01:43:03.624657300Z",
     "start_time": "2023-06-10T01:43:03.577655600Z"
    }
   }
  },
  {
   "cell_type": "markdown",
   "source": [
    "## 多分类问题中的混淆矩阵"
   ],
   "metadata": {
    "collapsed": false,
    "ExecuteTime": {
     "end_time": "2023-06-10T01:45:59.152521500Z",
     "start_time": "2023-06-10T01:45:56.131993500Z"
    }
   },
   "outputs": [
    {
     "ename": "ModelError",
     "evalue": "could not decode [0 1 2 3 4 5 6 7 8 9] y values to ['win' 'loss' 'draw'] labels",
     "output_type": "error",
     "traceback": [
      "\u001B[1;31m---------------------------------------------------------------------------\u001B[0m",
      "\u001B[1;31mIndexError\u001B[0m                                Traceback (most recent call last)",
      "File \u001B[1;32m~\\AppData\\Local\\Programs\\Python\\Python311\\Lib\\site-packages\\yellowbrick\\classifier\\base.py:290\u001B[0m, in \u001B[0;36mClassificationScoreVisualizer._decode_labels\u001B[1;34m(self, y)\u001B[0m\n\u001B[0;32m    289\u001B[0m \u001B[38;5;28;01mtry\u001B[39;00m:\n\u001B[1;32m--> 290\u001B[0m     \u001B[38;5;28;01mreturn\u001B[39;00m \u001B[43mnp\u001B[49m\u001B[38;5;241;43m.\u001B[39;49m\u001B[43masarray\u001B[49m\u001B[43m(\u001B[49m\u001B[38;5;28;43mself\u001B[39;49m\u001B[38;5;241;43m.\u001B[39;49m\u001B[43mclasses\u001B[49m\u001B[43m)\u001B[49m\u001B[43m[\u001B[49m\u001B[43midx\u001B[49m\u001B[43m]\u001B[49m\n\u001B[0;32m    291\u001B[0m \u001B[38;5;28;01mexcept\u001B[39;00m \u001B[38;5;167;01mIndexError\u001B[39;00m:\n",
      "\u001B[1;31mIndexError\u001B[0m: index 3 is out of bounds for axis 0 with size 3",
      "\nDuring handling of the above exception, another exception occurred:\n",
      "\u001B[1;31mModelError\u001B[0m                                Traceback (most recent call last)",
      "Cell \u001B[1;32mIn[45], line 17\u001B[0m\n\u001B[0;32m     15\u001B[0m visualizer \u001B[38;5;241m=\u001B[39m ROCAUC(log_reg_er, classes\u001B[38;5;241m=\u001B[39m[\u001B[38;5;124m\"\u001B[39m\u001B[38;5;124mwin\u001B[39m\u001B[38;5;124m\"\u001B[39m, \u001B[38;5;124m\"\u001B[39m\u001B[38;5;124mloss\u001B[39m\u001B[38;5;124m\"\u001B[39m, \u001B[38;5;124m\"\u001B[39m\u001B[38;5;124mdraw\u001B[39m\u001B[38;5;124m\"\u001B[39m])\n\u001B[0;32m     16\u001B[0m model \u001B[38;5;241m=\u001B[39m RidgeClassifier()\n\u001B[1;32m---> 17\u001B[0m \u001B[43mvisualizer\u001B[49m\u001B[38;5;241;43m.\u001B[39;49m\u001B[43mfit\u001B[49m\u001B[43m(\u001B[49m\u001B[43mX_train\u001B[49m\u001B[43m,\u001B[49m\u001B[43m \u001B[49m\u001B[43my_train\u001B[49m\u001B[43m)\u001B[49m  \u001B[38;5;66;03m# 拟合visualizer\u001B[39;00m\n\u001B[0;32m     18\u001B[0m visualizer\u001B[38;5;241m.\u001B[39mscore(X_test, y_test)  \u001B[38;5;66;03m# 评价模型在训练集上效果\u001B[39;00m\n\u001B[0;32m     19\u001B[0m visualizer\u001B[38;5;241m.\u001B[39mshow()\n",
      "File \u001B[1;32m~\\AppData\\Local\\Programs\\Python\\Python311\\Lib\\site-packages\\yellowbrick\\classifier\\rocauc.py:242\u001B[0m, in \u001B[0;36mROCAUC.fit\u001B[1;34m(self, X, y)\u001B[0m\n\u001B[0;32m    234\u001B[0m     \u001B[38;5;28;01mraise\u001B[39;00m YellowbrickValueError(\n\u001B[0;32m    235\u001B[0m         (\n\u001B[0;32m    236\u001B[0m             \u001B[38;5;124m\"\u001B[39m\u001B[38;5;132;01m{}\u001B[39;00m\u001B[38;5;124m does not support target type \u001B[39m\u001B[38;5;124m'\u001B[39m\u001B[38;5;132;01m{}\u001B[39;00m\u001B[38;5;124m'\u001B[39m\u001B[38;5;124m, \u001B[39m\u001B[38;5;124m\"\u001B[39m\n\u001B[0;32m    237\u001B[0m             \u001B[38;5;124m\"\u001B[39m\u001B[38;5;124mplease provide a binary or multiclass single-output target\u001B[39m\u001B[38;5;124m\"\u001B[39m\n\u001B[0;32m    238\u001B[0m         )\u001B[38;5;241m.\u001B[39mformat(\u001B[38;5;28mself\u001B[39m\u001B[38;5;241m.\u001B[39m\u001B[38;5;18m__class__\u001B[39m\u001B[38;5;241m.\u001B[39m\u001B[38;5;18m__name__\u001B[39m, ttype)\n\u001B[0;32m    239\u001B[0m     )\n\u001B[0;32m    241\u001B[0m \u001B[38;5;66;03m# Fit the model and return self\u001B[39;00m\n\u001B[1;32m--> 242\u001B[0m \u001B[38;5;28;01mreturn\u001B[39;00m \u001B[38;5;28;43msuper\u001B[39;49m\u001B[43m(\u001B[49m\u001B[43mROCAUC\u001B[49m\u001B[43m,\u001B[49m\u001B[43m \u001B[49m\u001B[38;5;28;43mself\u001B[39;49m\u001B[43m)\u001B[49m\u001B[38;5;241;43m.\u001B[39;49m\u001B[43mfit\u001B[49m\u001B[43m(\u001B[49m\u001B[43mX\u001B[49m\u001B[43m,\u001B[49m\u001B[43m \u001B[49m\u001B[43my\u001B[49m\u001B[43m)\u001B[49m\n",
      "File \u001B[1;32m~\\AppData\\Local\\Programs\\Python\\Python311\\Lib\\site-packages\\yellowbrick\\classifier\\base.py:189\u001B[0m, in \u001B[0;36mClassificationScoreVisualizer.fit\u001B[1;34m(self, X, y, **kwargs)\u001B[0m\n\u001B[0;32m    186\u001B[0m         \u001B[38;5;28mself\u001B[39m\u001B[38;5;241m.\u001B[39mclass_counts_ \u001B[38;5;241m=\u001B[39m \u001B[38;5;28;01mNone\u001B[39;00m\n\u001B[0;32m    188\u001B[0m \u001B[38;5;66;03m# Decode classes to human readable labels specified by the user\u001B[39;00m\n\u001B[1;32m--> 189\u001B[0m \u001B[38;5;28mself\u001B[39m\u001B[38;5;241m.\u001B[39mclasses_ \u001B[38;5;241m=\u001B[39m \u001B[38;5;28;43mself\u001B[39;49m\u001B[38;5;241;43m.\u001B[39;49m\u001B[43m_decode_labels\u001B[49m\u001B[43m(\u001B[49m\u001B[38;5;28;43mself\u001B[39;49m\u001B[38;5;241;43m.\u001B[39;49m\u001B[43mclasses_\u001B[49m\u001B[43m)\u001B[49m\n\u001B[0;32m    191\u001B[0m \u001B[38;5;66;03m# Always return self from fit\u001B[39;00m\n\u001B[0;32m    192\u001B[0m \u001B[38;5;28;01mreturn\u001B[39;00m \u001B[38;5;28mself\u001B[39m\n",
      "File \u001B[1;32m~\\AppData\\Local\\Programs\\Python\\Python311\\Lib\\site-packages\\yellowbrick\\classifier\\base.py:293\u001B[0m, in \u001B[0;36mClassificationScoreVisualizer._decode_labels\u001B[1;34m(self, y)\u001B[0m\n\u001B[0;32m    291\u001B[0m     \u001B[38;5;28;01mexcept\u001B[39;00m \u001B[38;5;167;01mIndexError\u001B[39;00m:\n\u001B[0;32m    292\u001B[0m         y_labels \u001B[38;5;241m=\u001B[39m np\u001B[38;5;241m.\u001B[39munique(yp)\n\u001B[1;32m--> 293\u001B[0m         \u001B[38;5;28;01mraise\u001B[39;00m ModelError(\n\u001B[0;32m    294\u001B[0m             \u001B[38;5;124m\"\u001B[39m\u001B[38;5;124mcould not decode \u001B[39m\u001B[38;5;132;01m{}\u001B[39;00m\u001B[38;5;124m y values to \u001B[39m\u001B[38;5;132;01m{}\u001B[39;00m\u001B[38;5;124m labels\u001B[39m\u001B[38;5;124m\"\u001B[39m\u001B[38;5;241m.\u001B[39mformat(\n\u001B[0;32m    295\u001B[0m                 y_labels, \u001B[38;5;28mself\u001B[39m\u001B[38;5;241m.\u001B[39m_labels()\n\u001B[0;32m    296\u001B[0m             )\n\u001B[0;32m    297\u001B[0m         )\n\u001B[0;32m    299\u001B[0m \u001B[38;5;66;03m# could not decode y without encoder or classes, return it as it is, unmodified\u001B[39;00m\n\u001B[0;32m    300\u001B[0m \u001B[38;5;28;01mreturn\u001B[39;00m y\n",
      "\u001B[1;31mModelError\u001B[0m: could not decode [0 1 2 3 4 5 6 7 8 9] y values to ['win' 'loss' 'draw'] labels"
     ]
    }
   ],
   "execution_count": 45
  },
  {
   "cell_type": "code",
   "execution_count": 34,
   "outputs": [
    {
     "data": {
      "text/plain": "((1347, 64), (450, 64), (1347,), (450,))"
     },
     "execution_count": 34,
     "metadata": {},
     "output_type": "execute_result"
    }
   ],
   "source": [
    "X = digits['data']\n",
    "y = digits['target']\n",
    "\n",
    "X_train, X_test, y_train, y_test = train_test_split(X, y, random_state=666)\n",
    "X_train.shape, X_test.shape, y_train.shape, y_test.shape"
   ],
   "metadata": {
    "collapsed": false,
    "ExecuteTime": {
     "end_time": "2023-06-10T01:43:03.625183800Z",
     "start_time": "2023-06-10T01:43:03.584510600Z"
    }
   }
  },
  {
   "cell_type": "code",
   "execution_count": 35,
   "outputs": [
    {
     "data": {
      "text/plain": "0.9688888888888889"
     },
     "execution_count": 35,
     "metadata": {},
     "output_type": "execute_result"
    }
   ],
   "source": [
    "log_reg_er = LogisticRegression(max_iter=3000)\n",
    "log_reg_er.fit(X_train, y_train)\n",
    "log_reg_er.score(X_test, y_test)"
   ],
   "metadata": {
    "collapsed": false,
    "ExecuteTime": {
     "end_time": "2023-06-10T01:43:05.358229200Z",
     "start_time": "2023-06-10T01:43:03.590404900Z"
    }
   }
  },
  {
   "cell_type": "code",
   "execution_count": 36,
   "outputs": [
    {
     "data": {
      "text/plain": "array([8, 1, 3, 4, 4, 0, 7, 0, 8, 0, 4, 6, 1, 1, 2, 0, 1, 6, 7, 3, 3, 6,\n       3, 2, 3, 4, 0, 2, 0, 3, 0, 8, 7, 2, 3, 5, 1, 3, 1, 5, 8, 6, 2, 6,\n       3, 1, 3, 0, 0, 4, 9, 9, 2, 8, 7, 0, 5, 4, 0, 9, 5, 5, 5, 9, 4, 2,\n       8, 8, 7, 1, 4, 3, 0, 2, 7, 2, 1, 2, 4, 0, 9, 0, 6, 6, 2, 0, 0, 5,\n       4, 4, 3, 1, 3, 8, 6, 4, 4, 7, 5, 6, 8, 4, 8, 4, 6, 9, 7, 7, 0, 8,\n       8, 3, 9, 7, 1, 8, 4, 2, 7, 0, 0, 4, 9, 6, 7, 3, 4, 6, 4, 8, 4, 7,\n       2, 6, 9, 5, 8, 7, 2, 5, 5, 9, 7, 9, 2, 1, 9, 4, 4, 1, 5, 1, 6, 4,\n       4, 8, 1, 5, 2, 5, 2, 1, 4, 4, 3, 9, 4, 0, 6, 0, 8, 3, 8, 7, 3, 0,\n       3, 0, 5, 9, 2, 7, 1, 8, 1, 4, 3, 3, 7, 8, 2, 7, 2, 2, 8, 0, 5, 7,\n       6, 7, 3, 4, 7, 1, 7, 0, 9, 2, 8, 9, 3, 8, 9, 1, 1, 1, 9, 8, 7, 0,\n       3, 7, 3, 3, 4, 8, 2, 1, 8, 6, 0, 1, 7, 7, 5, 8, 3, 8, 7, 6, 8, 4,\n       2, 6, 2, 8, 7, 4, 9, 3, 5, 0, 6, 3, 8, 3, 3, 1, 4, 5, 3, 2, 5, 6,\n       9, 6, 9, 5, 5, 3, 6, 5, 9, 3, 7, 7, 0, 2, 8, 9, 9, 9, 2, 5, 6, 1,\n       9, 6, 5, 7, 7, 4, 5, 0, 0, 5, 3, 8, 4, 4, 3, 2, 5, 3, 2, 2, 3, 0,\n       9, 8, 2, 1, 4, 0, 6, 2, 8, 0, 6, 4, 9, 9, 8, 3, 9, 8, 6, 3, 2, 7,\n       9, 4, 2, 7, 5, 1, 1, 6, 1, 0, 4, 9, 2, 9, 0, 3, 3, 0, 7, 4, 8, 5,\n       9, 5, 9, 5, 0, 7, 9, 8, 9, 8, 9, 0, 4, 6, 8, 0, 5, 0, 3, 2, 0, 1,\n       2, 3, 1, 3, 3, 1, 5, 9, 8, 2, 8, 2, 3, 6, 2, 7, 2, 1, 4, 2, 6, 3,\n       2, 5, 4, 1, 7, 7, 2, 1, 7, 3, 5, 0, 7, 3, 6, 2, 5, 9, 5, 7, 8, 1,\n       6, 4, 8, 1, 2, 6, 6, 8, 4, 9, 9, 9, 8, 6, 0, 3, 2, 5, 6, 2, 1, 2,\n       1, 1, 5, 0, 0, 2, 7, 4, 4, 5])"
     },
     "execution_count": 36,
     "metadata": {},
     "output_type": "execute_result"
    }
   ],
   "source": [
    "y_predict = log_reg_er.predict(X_test)\n",
    "y_predict"
   ],
   "metadata": {
    "collapsed": false,
    "ExecuteTime": {
     "end_time": "2023-06-10T01:43:05.364091600Z",
     "start_time": "2023-06-10T01:43:05.355146800Z"
    }
   }
  },
  {
   "cell_type": "code",
   "execution_count": 37,
   "outputs": [
    {
     "data": {
      "text/plain": "0.9688888888888889"
     },
     "execution_count": 37,
     "metadata": {},
     "output_type": "execute_result"
    }
   ],
   "source": [
    "precision_score(y_test, y_predict, average='micro')"
   ],
   "metadata": {
    "collapsed": false,
    "ExecuteTime": {
     "end_time": "2023-06-10T01:43:05.365603500Z",
     "start_time": "2023-06-10T01:43:05.360240Z"
    }
   }
  },
  {
   "cell_type": "code",
   "execution_count": 38,
   "outputs": [
    {
     "data": {
      "text/plain": "0.9688888888888889"
     },
     "execution_count": 38,
     "metadata": {},
     "output_type": "execute_result"
    }
   ],
   "source": [
    "recall_score(y_test, y_predict, average='micro')"
   ],
   "metadata": {
    "collapsed": false,
    "ExecuteTime": {
     "end_time": "2023-06-10T01:43:05.375480400Z",
     "start_time": "2023-06-10T01:43:05.365603500Z"
    }
   }
  },
  {
   "cell_type": "code",
   "execution_count": 39,
   "outputs": [
    {
     "data": {
      "text/plain": "array([[46,  0,  0,  0,  0,  0,  0,  0,  0,  0],\n       [ 0, 40,  0,  0,  0,  0,  0,  0,  0,  0],\n       [ 0,  0, 50,  0,  0,  0,  0,  0,  0,  0],\n       [ 0,  0,  1, 50,  0,  0,  0,  0,  1,  1],\n       [ 0,  0,  0,  0, 47,  0,  0,  0,  1,  0],\n       [ 0,  0,  0,  0,  0, 37,  0,  0,  0,  1],\n       [ 0,  0,  0,  0,  0,  1, 38,  0,  0,  0],\n       [ 0,  0,  0,  0,  0,  0,  0, 43,  0,  0],\n       [ 0,  1,  0,  0,  1,  1,  0,  1, 44,  0],\n       [ 0,  0,  0,  1,  0,  2,  0,  0,  1, 41]], dtype=int64)"
     },
     "execution_count": 39,
     "metadata": {},
     "output_type": "execute_result"
    }
   ],
   "source": [
    "cfm = confusion_matrix(y_test, y_predict)\n",
    "cfm"
   ],
   "metadata": {
    "collapsed": false,
    "ExecuteTime": {
     "end_time": "2023-06-10T01:43:05.460673100Z",
     "start_time": "2023-06-10T01:43:05.372120100Z"
    }
   }
  },
  {
   "cell_type": "code",
   "execution_count": 40,
   "outputs": [
    {
     "data": {
      "text/plain": "<Figure size 480x480 with 1 Axes>",
      "image/png": "[encoded data removed]"
     },
     "metadata": {},
     "output_type": "display_data"
    }
   ],
   "source": [
    "plt.matshow(cfm, cmap=plt.cm.gray)\n",
    "plt.show()"
   ],
   "metadata": {
    "collapsed": false,
    "ExecuteTime": {
     "end_time": "2023-06-10T01:43:05.525725900Z",
     "start_time": "2023-06-10T01:43:05.378867Z"
    }
   }
  },
  {
   "cell_type": "code",
   "execution_count": 41,
   "outputs": [
    {
     "data": {
      "text/plain": "array([[0.        , 0.        , 0.        , 0.        , 0.        ,\n        0.        , 0.        , 0.        , 0.        , 0.        ],\n       [0.        , 0.        , 0.        , 0.        , 0.        ,\n        0.        , 0.        , 0.        , 0.        , 0.        ],\n       [0.        , 0.        , 0.        , 0.        , 0.        ,\n        0.        , 0.        , 0.        , 0.        , 0.        ],\n       [0.        , 0.        , 0.02      , 0.        , 0.        ,\n        0.        , 0.        , 0.        , 0.02083333, 0.02222222],\n       [0.        , 0.        , 0.        , 0.        , 0.        ,\n        0.        , 0.        , 0.        , 0.02083333, 0.        ],\n       [0.        , 0.        , 0.        , 0.        , 0.        ,\n        0.        , 0.        , 0.        , 0.        , 0.02222222],\n       [0.        , 0.        , 0.        , 0.        , 0.        ,\n        0.02631579, 0.        , 0.        , 0.        , 0.        ],\n       [0.        , 0.        , 0.        , 0.        , 0.        ,\n        0.        , 0.        , 0.        , 0.        , 0.        ],\n       [0.        , 0.025     , 0.        , 0.        , 0.02083333,\n        0.02631579, 0.        , 0.02325581, 0.        , 0.        ],\n       [0.        , 0.        , 0.        , 0.01886792, 0.        ,\n        0.05263158, 0.        , 0.        , 0.02083333, 0.        ]])"
     },
     "execution_count": 41,
     "metadata": {},
     "output_type": "execute_result"
    }
   ],
   "source": [
    "row_sums = np.sum(cfm, axis=1)\n",
    "err_matrix = cfm / row_sums\n",
    "np.fill_diagonal(err_matrix, 0)\n",
    "err_matrix"
   ],
   "metadata": {
    "collapsed": false,
    "ExecuteTime": {
     "end_time": "2023-06-10T01:43:05.527231500Z",
     "start_time": "2023-06-10T01:43:05.476431300Z"
    }
   }
  },
  {
   "cell_type": "code",
   "execution_count": 42,
   "outputs": [
    {
     "data": {
      "text/plain": "<Figure size 480x480 with 1 Axes>",
      "image/png": "[encoded data removed]"
     },
     "metadata": {},
     "output_type": "display_data"
    }
   ],
   "source": [
    "plt.matshow(err_matrix, cmap=plt.cm.gray)\n",
    "plt.show()"
   ],
   "metadata": {
    "collapsed": false,
    "ExecuteTime": {
     "end_time": "2023-06-10T01:43:05.648975900Z",
     "start_time": "2023-06-10T01:43:05.481954500Z"
    }
   }
  }
 ],
 "metadata": {
  "kernelspec": {
   "display_name": "Python 3",
   "language": "python",
   "name": "python3"
  },
  "language_info": {
   "codemirror_mode": {
    "name": "ipython",
    "version": 2
   },
   "file_extension": ".py",
   "mimetype": "text/x-python",
   "name": "python",
   "nbconvert_exporter": "python",
   "pygments_lexer": "ipython2",
   "version": "2.7.6"
  }
 },
 "nbformat": 4,
 "nbformat_minor": 0
}

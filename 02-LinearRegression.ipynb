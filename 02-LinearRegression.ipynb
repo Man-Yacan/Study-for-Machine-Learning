{
 "cells": [
  {
   "cell_type": "code",
   "execution_count": 1,
   "metadata": {
    "collapsed": true,
    "ExecuteTime": {
     "end_time": "2023-05-31T11:55:48.014712600Z",
     "start_time": "2023-05-31T11:55:46.803140900Z"
    }
   },
   "outputs": [],
   "source": [
    "# Import packages\n",
    "import pandas as pd\n",
    "import numpy as np\n",
    "import matplotlib.pyplot as plt\n",
    "import seaborn as sns\n",
    "from sympy.interactive import printing"
   ]
  },
  {
   "cell_type": "markdown",
   "metadata": {},
   "source": [
    "## Getting a simple linear regression algorithm"
   ]
  },
  {
   "cell_type": "code",
   "execution_count": 2,
   "metadata": {
    "ExecuteTime": {
     "end_time": "2023-05-31T11:55:48.021742600Z",
     "start_time": "2023-05-31T11:55:48.018202600Z"
    }
   },
   "outputs": [],
   "source": [
    "x = np.array([1., 2, 3, 4, 5])\n",
    "y = np.array([1., 3, 2, 3, 5])"
   ]
  },
  {
   "cell_type": "code",
   "execution_count": 3,
   "metadata": {
    "ExecuteTime": {
     "end_time": "2023-05-31T11:55:48.153937700Z",
     "start_time": "2023-05-31T11:55:48.021742600Z"
    }
   },
   "outputs": [
    {
     "data": {
      "text/plain": "<Figure size 640x480 with 1 Axes>",
      "image/png": "[encoded data removed]"
     },
     "metadata": {},
     "output_type": "display_data"
    }
   ],
   "source": [
    "plt.scatter(x, y)\n",
    "plt.axis([0, 6, 0, 6])\n",
    "plt.show()"
   ]
  },
  {
   "cell_type": "markdown",
   "metadata": {},
   "source": [
    "$$a=\\frac{\\sum_{i=1}^{m}\\left(x^{(i)}-\\bar{x}\\right)\\left(y^{(i)}-\\bar{y}\\right)}{\\sum_{i=1}^{m}\\left(x^{(i)}-\\bar{x}\\right)^{2}},\\ b=\\bar{y}-a \\bar{x}\\$$"
   ]
  },
  {
   "cell_type": "code",
   "execution_count": 4,
   "metadata": {
    "ExecuteTime": {
     "end_time": "2023-05-31T11:55:48.161780200Z",
     "start_time": "2023-05-31T11:55:48.153426300Z"
    }
   },
   "outputs": [
    {
     "data": {
      "text/plain": "(0.8, 0.39999999999999947)"
     },
     "execution_count": 4,
     "metadata": {},
     "output_type": "execute_result"
    }
   ],
   "source": [
    "# Calculate a.\n",
    "d, m = 0, 0\n",
    "for x_i, y_i in zip(x, y):\n",
    "    d += (x_i - x.mean()) * (y_i - y.mean())\n",
    "    m += (x_i - x.mean()) ** 2\n",
    "\n",
    "a = d / m\n",
    "\n",
    "# Calculate b.\n",
    "b = y.mean() - a * x.mean()\n",
    "\n",
    "a, b"
   ]
  },
  {
   "cell_type": "code",
   "execution_count": 5,
   "outputs": [
    {
     "data": {
      "text/plain": "array([1.2, 2. , 2.8, 3.6, 4.4])"
     },
     "execution_count": 5,
     "metadata": {},
     "output_type": "execute_result"
    }
   ],
   "source": [
    "y_hat = a * x + b\n",
    "y_hat"
   ],
   "metadata": {
    "collapsed": false,
    "ExecuteTime": {
     "end_time": "2023-05-31T11:55:48.167978700Z",
     "start_time": "2023-05-31T11:55:48.162307800Z"
    }
   }
  },
  {
   "cell_type": "code",
   "execution_count": 6,
   "outputs": [
    {
     "data": {
      "text/plain": "<Figure size 640x480 with 1 Axes>",
      "image/png": "[encoded data removed]"
     },
     "metadata": {},
     "output_type": "display_data"
    }
   ],
   "source": [
    "plt.scatter(x, y)\n",
    "plt.plot(x, y_hat, color='r')\n",
    "plt.axis([0, 6, 0, 6])\n",
    "plt.show()"
   ],
   "metadata": {
    "collapsed": false,
    "ExecuteTime": {
     "end_time": "2023-05-31T11:55:48.296542Z",
     "start_time": "2023-05-31T11:55:48.167978700Z"
    }
   }
  },
  {
   "cell_type": "markdown",
   "source": [
    "## Making a object to get linear regression"
   ],
   "metadata": {
    "collapsed": false
   }
  },
  {
   "cell_type": "code",
   "execution_count": 7,
   "outputs": [
    {
     "name": "stdout",
     "output_type": "stream",
     "text": [
      "0.8 0.39999999999999947\n"
     ]
    },
    {
     "data": {
      "text/plain": "array([1.2, 2. , 2.8, 3.6, 4.4])"
     },
     "execution_count": 7,
     "metadata": {},
     "output_type": "execute_result"
    }
   ],
   "source": [
    "class SimpleLinearRegression:\n",
    "    def __init__(self):\n",
    "        \"\"\"\n",
    "        Initialization parameters\n",
    "        \"\"\"\n",
    "        self.a_ = None\n",
    "        self.b_ = None\n",
    "\n",
    "    def fit(self, x_train, y_train):\n",
    "        \"\"\"\n",
    "        Fit the data and calculate self.a_ and self.b_.\n",
    "        :param x_train: data of x.\n",
    "        :param y_train: data of y.\n",
    "        :return: Object\n",
    "        \"\"\"\n",
    "        # Data type conversion.\n",
    "        if type(x_train) != np.ndarray: x_train = np.array(x_train)\n",
    "        if type(y_train) != np.ndarray: y_train = np.array(y_train)\n",
    "\n",
    "        # Check the length of data.\n",
    "        assert x_train.ndim == 1 == y_train.ndim, 'The dimension of x and y must be one!!!'\n",
    "        assert len(x_train) == len(y_train), 'The length of x and y must be equal!!!'\n",
    "\n",
    "        # Calculate a and b.\n",
    "        d, m = 0, 0\n",
    "        for x, y in zip(x_train, y_train):\n",
    "            d += (x - x_train.mean()) * (y - y_train.mean())\n",
    "            m += (x - x_train.mean()) ** 2\n",
    "\n",
    "        self.a_ = d / m\n",
    "        self.b_ = y_train.mean() - a * x_train.mean()\n",
    "\n",
    "        return self\n",
    "\n",
    "    def fit_vector(self, x_train, y_train):\n",
    "        \"\"\"\n",
    "        Fit the data and calculate self.a_ and self.b_.\n",
    "        :param x_train: data of x.\n",
    "        :param y_train: data of y.\n",
    "        :return: Object\n",
    "        \"\"\"\n",
    "        # Data type conversion.\n",
    "        if type(x_train) != np.ndarray: x_train = np.array(x_train)\n",
    "        if type(y_train) != np.ndarray: y_train = np.array(y_train)\n",
    "\n",
    "        # Check the length of data.\n",
    "        assert x_train.ndim == 1 == y_train.ndim, 'The dimension of x and y must be one!!!'\n",
    "        assert len(x_train) == len(y_train), 'The length of x and y must be equal!!!'\n",
    "\n",
    "        # Calculate a and b.\n",
    "        x_mean, y_mean = np.mean(x_train), np.mean(y_train)\n",
    "        d = (x_train - x_mean).dot(y_train - y_mean)\n",
    "        m = (x_train - x_mean).dot(x_train - x_mean)\n",
    "\n",
    "        self.a_ = d / m\n",
    "        self.b_ = y_mean - self.a_ * x_mean\n",
    "\n",
    "        return self\n",
    "\n",
    "    def predict(self, x_test):\n",
    "        \"\"\"\n",
    "        Using input x_test to calculate y_test, y_test = self.a_ * x_test + self.b_\n",
    "        :param x_test: Input x_test data.\n",
    "        \"\"\"\n",
    "        assert self.a_ is not None, 'Please run object.fit() before predict!!!'\n",
    "\n",
    "        y_test = np.array([self.predict_(x) for x in x_test])\n",
    "        return y_test\n",
    "\n",
    "    def predict_(self, x):\n",
    "        return self.a_ * x + self.b_\n",
    "\n",
    "    def __repr__(self):\n",
    "        return 'SimpleLinearRegression'\n",
    "\n",
    "\n",
    "demo_ob = SimpleLinearRegression()\n",
    "# demo_ob.fit(x, y)\n",
    "demo_ob.fit_vector(x, y)\n",
    "print(demo_ob.a_, demo_ob.b_)\n",
    "demo_ob.predict_(x)"
   ],
   "metadata": {
    "collapsed": false,
    "ExecuteTime": {
     "end_time": "2023-05-31T11:55:48.310178Z",
     "start_time": "2023-05-31T11:55:48.295539900Z"
    }
   }
  },
  {
   "cell_type": "markdown",
   "source": [
    "## performance comparison"
   ],
   "metadata": {
    "collapsed": false
   }
  },
  {
   "cell_type": "code",
   "execution_count": 8,
   "outputs": [],
   "source": [
    "NUM = 100000\n",
    "rand_x = np.random.random(size=NUM)\n",
    "rand_y = rand_x * 2.0 + 3.0 + np.random.normal(size=NUM)"
   ],
   "metadata": {
    "collapsed": false,
    "ExecuteTime": {
     "end_time": "2023-05-31T11:55:48.318765200Z",
     "start_time": "2023-05-31T11:55:48.311211Z"
    }
   }
  },
  {
   "cell_type": "code",
   "execution_count": 9,
   "outputs": [
    {
     "name": "stdout",
     "output_type": "stream",
     "text": [
      "2.002690164550546 3.6021076639329443\n",
      "CPU times: total: 6.05 s\n",
      "Wall time: 11.3 s\n"
     ]
    }
   ],
   "source": [
    "%%time\n",
    "demo_ob = SimpleLinearRegression()\n",
    "demo_ob.fit(rand_x, rand_y)\n",
    "print(demo_ob.a_, demo_ob.b_)\n",
    "# demo_ob.predict_(rand_x)"
   ],
   "metadata": {
    "collapsed": false,
    "ExecuteTime": {
     "end_time": "2023-05-31T11:55:59.668404500Z",
     "start_time": "2023-05-31T11:55:48.319811900Z"
    }
   }
  },
  {
   "cell_type": "code",
   "execution_count": 10,
   "outputs": [
    {
     "name": "stdout",
     "output_type": "stream",
     "text": [
      "2.002690164550522 3.0003875926965375\n",
      "CPU times: total: 0 ns\n",
      "Wall time: 1.04 ms\n"
     ]
    }
   ],
   "source": [
    "%%time\n",
    "demo_ob = SimpleLinearRegression()\n",
    "demo_ob.fit_vector(rand_x, rand_y)\n",
    "print(demo_ob.a_, demo_ob.b_)\n",
    "# demo_ob.predict_(rand_x)"
   ],
   "metadata": {
    "collapsed": false,
    "ExecuteTime": {
     "end_time": "2023-05-31T11:55:59.675270Z",
     "start_time": "2023-05-31T11:55:59.669497300Z"
    }
   }
  },
  {
   "cell_type": "markdown",
   "source": [
    "## Algorithm Accuracy Evaluation"
   ],
   "metadata": {
    "collapsed": false
   }
  },
  {
   "cell_type": "code",
   "execution_count": 11,
   "outputs": [],
   "source": [
    "data_url = \"http://lib.stat.cmu.edu/datasets/boston\"\n",
    "raw_df = pd.read_csv(data_url, sep=\"\\s+\", skiprows=22, header=None)\n",
    "data = np.hstack([raw_df.values[::2, :], raw_df.values[1::2, :2]])\n",
    "target = raw_df.values[1::2, 2]"
   ],
   "metadata": {
    "collapsed": false,
    "ExecuteTime": {
     "end_time": "2023-05-31T11:56:01.575522800Z",
     "start_time": "2023-05-31T11:55:59.676272900Z"
    }
   }
  },
  {
   "cell_type": "code",
   "execution_count": 12,
   "outputs": [
    {
     "data": {
      "text/plain": "((506, 13), (506,))"
     },
     "execution_count": 12,
     "metadata": {},
     "output_type": "execute_result"
    }
   ],
   "source": [
    "data.shape, target.shape"
   ],
   "metadata": {
    "collapsed": false,
    "ExecuteTime": {
     "end_time": "2023-05-31T11:56:01.580747800Z",
     "start_time": "2023-05-31T11:56:01.576220100Z"
    }
   }
  },
  {
   "cell_type": "code",
   "execution_count": 13,
   "outputs": [
    {
     "data": {
      "text/plain": "array([[6.3200e-03, 1.8000e+01, 2.3100e+00, ..., 1.5300e+01, 3.9690e+02,\n        4.9800e+00],\n       [2.7310e-02, 0.0000e+00, 7.0700e+00, ..., 1.7800e+01, 3.9690e+02,\n        9.1400e+00],\n       [2.7290e-02, 0.0000e+00, 7.0700e+00, ..., 1.7800e+01, 3.9283e+02,\n        4.0300e+00],\n       ...,\n       [6.0760e-02, 0.0000e+00, 1.1930e+01, ..., 2.1000e+01, 3.9690e+02,\n        5.6400e+00],\n       [1.0959e-01, 0.0000e+00, 1.1930e+01, ..., 2.1000e+01, 3.9345e+02,\n        6.4800e+00],\n       [4.7410e-02, 0.0000e+00, 1.1930e+01, ..., 2.1000e+01, 3.9690e+02,\n        7.8800e+00]])"
     },
     "execution_count": 13,
     "metadata": {},
     "output_type": "execute_result"
    }
   ],
   "source": [
    "data"
   ],
   "metadata": {
    "collapsed": false,
    "ExecuteTime": {
     "end_time": "2023-05-31T11:56:01.590722900Z",
     "start_time": "2023-05-31T11:56:01.582376900Z"
    }
   }
  },
  {
   "cell_type": "code",
   "execution_count": 14,
   "outputs": [
    {
     "name": "stdout",
     "output_type": "stream",
     "text": [
      "(506,) (506,)\n"
     ]
    },
    {
     "data": {
      "text/plain": "<Figure size 640x480 with 1 Axes>",
      "image/png": "[encoded data removed]"
     },
     "metadata": {},
     "output_type": "display_data"
    }
   ],
   "source": [
    "x = data[:, 5]\n",
    "y = target\n",
    "\n",
    "print(x.shape, y.shape)\n",
    "\n",
    "plt.scatter(x, y)\n",
    "plt.show()"
   ],
   "metadata": {
    "collapsed": false,
    "ExecuteTime": {
     "end_time": "2023-05-31T11:56:01.707446400Z",
     "start_time": "2023-05-31T11:56:01.586605400Z"
    }
   }
  },
  {
   "cell_type": "code",
   "execution_count": 15,
   "outputs": [
    {
     "data": {
      "text/plain": "((490,), (490,))"
     },
     "execution_count": 15,
     "metadata": {},
     "output_type": "execute_result"
    }
   ],
   "source": [
    "# remove outliers\n",
    "x = x[y < 50]\n",
    "y = y[y < 50]\n",
    "x.shape, y.shape"
   ],
   "metadata": {
    "collapsed": false,
    "ExecuteTime": {
     "end_time": "2023-05-31T11:56:01.752339100Z",
     "start_time": "2023-05-31T11:56:01.708540600Z"
    }
   }
  },
  {
   "cell_type": "code",
   "execution_count": 16,
   "outputs": [
    {
     "data": {
      "text/plain": "<Figure size 640x480 with 1 Axes>",
      "image/png": "[encoded data removed]"
     },
     "metadata": {},
     "output_type": "display_data"
    }
   ],
   "source": [
    "plt.scatter(x, y)\n",
    "plt.show()"
   ],
   "metadata": {
    "collapsed": false,
    "ExecuteTime": {
     "end_time": "2023-05-31T11:56:01.852216100Z",
     "start_time": "2023-05-31T11:56:01.732555900Z"
    }
   }
  },
  {
   "cell_type": "code",
   "execution_count": 17,
   "outputs": [
    {
     "data": {
      "text/plain": "((343,), (147,), (343,), (147,))"
     },
     "execution_count": 17,
     "metadata": {},
     "output_type": "execute_result"
    }
   ],
   "source": [
    "# Split the Feature Dataset and Label Dataset\n",
    "from sklearn.model_selection import train_test_split\n",
    "\n",
    "x_train, x_test, y_train, y_test, = train_test_split(x, y, test_size=0.3, random_state=666)\n",
    "x_train.shape, x_test.shape, y_train.shape, y_test.shape"
   ],
   "metadata": {
    "collapsed": false,
    "ExecuteTime": {
     "end_time": "2023-05-31T11:56:02.142626100Z",
     "start_time": "2023-05-31T11:56:01.852216100Z"
    }
   }
  },
  {
   "cell_type": "code",
   "execution_count": 18,
   "outputs": [
    {
     "name": "stdout",
     "output_type": "stream",
     "text": [
      "7.454292791093449 -25.0396650559275\n"
     ]
    }
   ],
   "source": [
    "demo_ob = SimpleLinearRegression()\n",
    "demo_ob.fit_vector(x_train, y_train)\n",
    "print(demo_ob.a_, demo_ob.b_)\n",
    "# demo_ob.predict_(rand_x)"
   ],
   "metadata": {
    "collapsed": false,
    "ExecuteTime": {
     "end_time": "2023-05-31T11:56:02.143327400Z",
     "start_time": "2023-05-31T11:56:02.139217600Z"
    }
   }
  },
  {
   "cell_type": "code",
   "execution_count": 19,
   "outputs": [],
   "source": [
    "y_predict = demo_ob.predict_(x_test)"
   ],
   "metadata": {
    "collapsed": false,
    "ExecuteTime": {
     "end_time": "2023-05-31T11:56:02.147486400Z",
     "start_time": "2023-05-31T11:56:02.142626100Z"
    }
   }
  },
  {
   "cell_type": "code",
   "execution_count": 20,
   "outputs": [
    {
     "data": {
      "text/plain": "<Figure size 640x480 with 1 Axes>",
      "image/png": "[encoded data removed]"
     },
     "metadata": {},
     "output_type": "display_data"
    }
   ],
   "source": [
    "plt.scatter(x, y)\n",
    "plt.plot(x_test, y_predict, color='r')\n",
    "plt.show()"
   ],
   "metadata": {
    "collapsed": false,
    "ExecuteTime": {
     "end_time": "2023-05-31T11:56:02.267930500Z",
     "start_time": "2023-05-31T11:56:02.148098400Z"
    }
   }
  },
  {
   "cell_type": "markdown",
   "source": [
    "### MSE"
   ],
   "metadata": {
    "collapsed": false
   }
  },
  {
   "cell_type": "code",
   "execution_count": 21,
   "outputs": [
    {
     "data": {
      "text/plain": "29.290626654686513"
     },
     "execution_count": 21,
     "metadata": {},
     "output_type": "execute_result"
    }
   ],
   "source": [
    "mse_res = np.sum((y_test - y_predict) ** 2) / len(y_test)\n",
    "mse_res"
   ],
   "metadata": {
    "collapsed": false,
    "ExecuteTime": {
     "end_time": "2023-05-31T11:56:02.273552700Z",
     "start_time": "2023-05-31T11:56:02.267424400Z"
    }
   }
  },
  {
   "cell_type": "markdown",
   "source": [
    "### RMES"
   ],
   "metadata": {
    "collapsed": false
   }
  },
  {
   "cell_type": "code",
   "execution_count": 22,
   "outputs": [
    {
     "data": {
      "text/plain": "5.41208154545795"
     },
     "execution_count": 22,
     "metadata": {},
     "output_type": "execute_result"
    }
   ],
   "source": [
    "np.sqrt(mse_res)"
   ],
   "metadata": {
    "collapsed": false,
    "ExecuteTime": {
     "end_time": "2023-05-31T11:56:02.281315600Z",
     "start_time": "2023-05-31T11:56:02.270425500Z"
    }
   }
  },
  {
   "cell_type": "markdown",
   "source": [
    "### MAE"
   ],
   "metadata": {
    "collapsed": false
   }
  },
  {
   "cell_type": "code",
   "execution_count": 23,
   "outputs": [
    {
     "data": {
      "text/plain": "4.064841547985004"
     },
     "execution_count": 23,
     "metadata": {},
     "output_type": "execute_result"
    }
   ],
   "source": [
    "np.sum(np.abs(y_predict - y_test) / len(y_test))"
   ],
   "metadata": {
    "collapsed": false,
    "ExecuteTime": {
     "end_time": "2023-05-31T11:56:02.285889Z",
     "start_time": "2023-05-31T11:56:02.279615500Z"
    }
   }
  },
  {
   "cell_type": "markdown",
   "source": [
    "### MAE and MSE in scikit-learn"
   ],
   "metadata": {
    "collapsed": false
   }
  },
  {
   "cell_type": "code",
   "execution_count": 24,
   "outputs": [
    {
     "data": {
      "text/plain": "(4.064841547985005, 29.290626654686513)"
     },
     "execution_count": 24,
     "metadata": {},
     "output_type": "execute_result"
    }
   ],
   "source": [
    "from sklearn.metrics import mean_absolute_error\n",
    "from sklearn.metrics import mean_squared_error\n",
    "\n",
    "mean_absolute_error(y_test, y_predict), mean_squared_error(y_test, y_predict)"
   ],
   "metadata": {
    "collapsed": false,
    "ExecuteTime": {
     "end_time": "2023-05-31T11:56:02.348081600Z",
     "start_time": "2023-05-31T11:56:02.285889Z"
    }
   }
  },
  {
   "cell_type": "markdown",
   "source": [
    "### R Squared"
   ],
   "metadata": {
    "collapsed": false
   }
  },
  {
   "cell_type": "code",
   "execution_count": 25,
   "outputs": [
    {
     "data": {
      "text/plain": "0.5805742639307612"
     },
     "execution_count": 25,
     "metadata": {},
     "output_type": "execute_result"
    }
   ],
   "source": [
    "1 - mean_squared_error(y_test, y_predict) / np.var(y_test)"
   ],
   "metadata": {
    "collapsed": false,
    "ExecuteTime": {
     "end_time": "2023-05-31T11:56:02.348081600Z",
     "start_time": "2023-05-31T11:56:02.295949700Z"
    }
   }
  },
  {
   "cell_type": "code",
   "execution_count": 26,
   "outputs": [
    {
     "data": {
      "text/plain": "0.5805742639307612"
     },
     "execution_count": 26,
     "metadata": {},
     "output_type": "execute_result"
    }
   ],
   "source": [
    "from sklearn.metrics import r2_score\n",
    "\n",
    "r2_score(y_test, y_predict)"
   ],
   "metadata": {
    "collapsed": false,
    "ExecuteTime": {
     "end_time": "2023-05-31T11:56:02.349671400Z",
     "start_time": "2023-05-31T11:56:02.304402600Z"
    }
   }
  },
  {
   "cell_type": "markdown",
   "source": [
    "## multiple linear regression"
   ],
   "metadata": {
    "collapsed": false
   }
  },
  {
   "cell_type": "code",
   "execution_count": 27,
   "outputs": [],
   "source": [
    "class MulLinearReg:\n",
    "    \"\"\"\n",
    "    The object can support the multiple linear regression\n",
    "    \"\"\"\n",
    "\n",
    "    def __init__(self):\n",
    "        self._theta = None\n",
    "        self.coef_ = None\n",
    "        self.interception_ = None\n",
    "\n",
    "    def fit_norm(self, X_train, y_train):\n",
    "        assert X_train.shape[0] == y_train.shape[0], \\\n",
    "            'The size of X and y must be equal!!!'\n",
    "\n",
    "        X_b = np.hstack([np.ones([X_train.shape[0], 1]), X_train])\n",
    "        self._theta = np.linalg.inv(X_b.T.dot(X_b)).dot(X_b.T).dot(y_train)\n",
    "\n",
    "        self.interception_ = self._theta[0]\n",
    "        self.coef_ = self._theta[1:]\n",
    "\n",
    "        return self\n",
    "\n",
    "    def predict(self, X_predict):\n",
    "        assert self.interception_ is not None and self.coef_ is not None, \\\n",
    "            'You must fit this object before predict!!!'\n",
    "        assert X_predict.shape[1] == len(self.coef_), \\\n",
    "            'The feature of X_predict must be equal to X_train!!!'\n",
    "\n",
    "        X_b = np.hstack([np.ones([X_predict.shape[0], 1]), X_predict])\n",
    "        return X_b.dot(self._theta)\n",
    "\n",
    "    def __repr__(self):\n",
    "        return 'MulLinearReg()'"
   ],
   "metadata": {
    "collapsed": false,
    "ExecuteTime": {
     "end_time": "2023-05-31T11:56:02.349671400Z",
     "start_time": "2023-05-31T11:56:02.312537700Z"
    }
   }
  },
  {
   "cell_type": "code",
   "execution_count": 28,
   "outputs": [
    {
     "data": {
      "text/plain": "((490, 13), (490,))"
     },
     "execution_count": 28,
     "metadata": {},
     "output_type": "execute_result"
    }
   ],
   "source": [
    "# Test MulLinearReg()\n",
    "X, y = data, target\n",
    "X = X[y < 50]\n",
    "y = y[y < 50]\n",
    "X.shape, y.shape"
   ],
   "metadata": {
    "collapsed": false,
    "ExecuteTime": {
     "end_time": "2023-05-31T11:56:02.349671400Z",
     "start_time": "2023-05-31T11:56:02.322085100Z"
    }
   }
  },
  {
   "cell_type": "code",
   "execution_count": 29,
   "outputs": [
    {
     "data": {
      "text/plain": "((343, 13), (147, 13), (343,), (147,))"
     },
     "execution_count": 29,
     "metadata": {},
     "output_type": "execute_result"
    }
   ],
   "source": [
    "# Split data\n",
    "X_train, X_test, y_train, y_test, = train_test_split(X, y, test_size=0.3, random_state=666)\n",
    "X_train.shape, X_test.shape, y_train.shape, y_test.shape"
   ],
   "metadata": {
    "collapsed": false,
    "ExecuteTime": {
     "end_time": "2023-05-31T11:56:02.384633800Z",
     "start_time": "2023-05-31T11:56:02.329892200Z"
    }
   }
  },
  {
   "cell_type": "code",
   "execution_count": 30,
   "outputs": [
    {
     "data": {
      "text/plain": "MulLinearReg()"
     },
     "execution_count": 30,
     "metadata": {},
     "output_type": "execute_result"
    }
   ],
   "source": [
    "demo_ob = MulLinearReg()\n",
    "demo_ob.fit_norm(X_train, y_train)"
   ],
   "metadata": {
    "collapsed": false,
    "ExecuteTime": {
     "end_time": "2023-05-31T11:56:02.384633800Z",
     "start_time": "2023-05-31T11:56:02.336315900Z"
    }
   }
  },
  {
   "cell_type": "code",
   "execution_count": 31,
   "outputs": [
    {
     "data": {
      "text/plain": "(36.72972816455894,\n array([-1.10288225e-01,  3.98029539e-02, -2.37196330e-02,  1.59403215e-01,\n        -1.25001067e+01,  3.08208257e+00, -1.70993250e-02, -1.19467165e+00,\n         2.61862346e-01, -1.33061158e-02, -8.63168785e-01,  7.68159972e-03,\n        -4.11980806e-01]))"
     },
     "execution_count": 31,
     "metadata": {},
     "output_type": "execute_result"
    }
   ],
   "source": [
    "demo_ob.interception_, demo_ob.coef_"
   ],
   "metadata": {
    "collapsed": false,
    "ExecuteTime": {
     "end_time": "2023-05-31T11:56:02.385150900Z",
     "start_time": "2023-05-31T11:56:02.340541900Z"
    }
   }
  },
  {
   "cell_type": "code",
   "execution_count": 32,
   "outputs": [],
   "source": [
    "y_predict = demo_ob.predict(X_test)"
   ],
   "metadata": {
    "collapsed": false,
    "ExecuteTime": {
     "end_time": "2023-05-31T11:56:02.385150900Z",
     "start_time": "2023-05-31T11:56:02.347081300Z"
    }
   }
  },
  {
   "cell_type": "code",
   "execution_count": 33,
   "outputs": [
    {
     "data": {
      "text/plain": "0.7984806765825204"
     },
     "execution_count": 33,
     "metadata": {},
     "output_type": "execute_result"
    }
   ],
   "source": [
    "r2_score(y_test, y_predict)"
   ],
   "metadata": {
    "collapsed": false,
    "ExecuteTime": {
     "end_time": "2023-05-31T11:56:02.385150900Z",
     "start_time": "2023-05-31T11:56:02.353181Z"
    }
   }
  },
  {
   "cell_type": "markdown",
   "source": [],
   "metadata": {
    "collapsed": false
   }
  },
  {
   "cell_type": "markdown",
   "source": [
    "## multiple linear regression in scikit-learn"
   ],
   "metadata": {
    "collapsed": false
   }
  },
  {
   "cell_type": "code",
   "execution_count": 34,
   "outputs": [
    {
     "data": {
      "text/plain": "LinearRegression()",
      "text/html": "<style>#sk-container-id-1 {color: black;background-color: white;}#sk-container-id-1 pre{padding: 0;}#sk-container-id-1 div.sk-toggleable {background-color: white;}#sk-container-id-1 label.sk-toggleable__label {cursor: pointer;display: block;width: 100%;margin-bottom: 0;padding: 0.3em;box-sizing: border-box;text-align: center;}#sk-container-id-1 label.sk-toggleable__label-arrow:before {content: \"▸\";float: left;margin-right: 0.25em;color: #696969;}#sk-container-id-1 label.sk-toggleable__label-arrow:hover:before {color: black;}#sk-container-id-1 div.sk-estimator:hover label.sk-toggleable__label-arrow:before {color: black;}#sk-container-id-1 div.sk-toggleable__content {max-height: 0;max-width: 0;overflow: hidden;text-align: left;background-color: #f0f8ff;}#sk-container-id-1 div.sk-toggleable__content pre {margin: 0.2em;color: black;border-radius: 0.25em;background-color: #f0f8ff;}#sk-container-id-1 input.sk-toggleable__control:checked~div.sk-toggleable__content {max-height: 200px;max-width: 100%;overflow: auto;}#sk-container-id-1 input.sk-toggleable__control:checked~label.sk-toggleable__label-arrow:before {content: \"▾\";}#sk-container-id-1 div.sk-estimator input.sk-toggleable__control:checked~label.sk-toggleable__label {background-color: #d4ebff;}#sk-container-id-1 div.sk-label input.sk-toggleable__control:checked~label.sk-toggleable__label {background-color: #d4ebff;}#sk-container-id-1 input.sk-hidden--visually {border: 0;clip: rect(1px 1px 1px 1px);clip: rect(1px, 1px, 1px, 1px);height: 1px;margin: -1px;overflow: hidden;padding: 0;position: absolute;width: 1px;}#sk-container-id-1 div.sk-estimator {font-family: monospace;background-color: #f0f8ff;border: 1px dotted black;border-radius: 0.25em;box-sizing: border-box;margin-bottom: 0.5em;}#sk-container-id-1 div.sk-estimator:hover {background-color: #d4ebff;}#sk-container-id-1 div.sk-parallel-item::after {content: \"\";width: 100%;border-bottom: 1px solid gray;flex-grow: 1;}#sk-container-id-1 div.sk-label:hover label.sk-toggleable__label {background-color: #d4ebff;}#sk-container-id-1 div.sk-serial::before {content: \"\";position: absolute;border-left: 1px solid gray;box-sizing: border-box;top: 0;bottom: 0;left: 50%;z-index: 0;}#sk-container-id-1 div.sk-serial {display: flex;flex-direction: column;align-items: center;background-color: white;padding-right: 0.2em;padding-left: 0.2em;position: relative;}#sk-container-id-1 div.sk-item {position: relative;z-index: 1;}#sk-container-id-1 div.sk-parallel {display: flex;align-items: stretch;justify-content: center;background-color: white;position: relative;}#sk-container-id-1 div.sk-item::before, #sk-container-id-1 div.sk-parallel-item::before {content: \"\";position: absolute;border-left: 1px solid gray;box-sizing: border-box;top: 0;bottom: 0;left: 50%;z-index: -1;}#sk-container-id-1 div.sk-parallel-item {display: flex;flex-direction: column;z-index: 1;position: relative;background-color: white;}#sk-container-id-1 div.sk-parallel-item:first-child::after {align-self: flex-end;width: 50%;}#sk-container-id-1 div.sk-parallel-item:last-child::after {align-self: flex-start;width: 50%;}#sk-container-id-1 div.sk-parallel-item:only-child::after {width: 0;}#sk-container-id-1 div.sk-dashed-wrapped {border: 1px dashed gray;margin: 0 0.4em 0.5em 0.4em;box-sizing: border-box;padding-bottom: 0.4em;background-color: white;}#sk-container-id-1 div.sk-label label {font-family: monospace;font-weight: bold;display: inline-block;line-height: 1.2em;}#sk-container-id-1 div.sk-label-container {text-align: center;}#sk-container-id-1 div.sk-container {/* jupyter's `normalize.less` sets `[hidden] { display: none; }` but bootstrap.min.css set `[hidden] { display: none !important; }` so we also need the `!important` here to be able to override the default hidden behavior on the sphinx rendered scikit-learn.org. See: https://github.com/scikit-learn/scikit-learn/issues/21755 */display: inline-block !important;position: relative;}#sk-container-id-1 div.sk-text-repr-fallback {display: none;}</style><div id=\"sk-container-id-1\" class=\"sk-top-container\"><div class=\"sk-text-repr-fallback\"><pre>LinearRegression()</pre><b>In a Jupyter environment, please rerun this cell to show the HTML representation or trust the notebook. <br />On GitHub, the HTML representation is unable to render, please try loading this page with nbviewer.org.</b></div><div class=\"sk-container\" hidden><div class=\"sk-item\"><div class=\"sk-estimator sk-toggleable\"><input class=\"sk-toggleable__control sk-hidden--visually\" id=\"sk-estimator-id-1\" type=\"checkbox\" checked><label for=\"sk-estimator-id-1\" class=\"sk-toggleable__label sk-toggleable__label-arrow\">LinearRegression</label><div class=\"sk-toggleable__content\"><pre>LinearRegression()</pre></div></div></div></div></div>"
     },
     "execution_count": 34,
     "metadata": {},
     "output_type": "execute_result"
    }
   ],
   "source": [
    "from sklearn.linear_model import LinearRegression\n",
    "\n",
    "lin_reg = LinearRegression()\n",
    "lin_reg.fit(X_train, y_train)"
   ],
   "metadata": {
    "collapsed": false,
    "ExecuteTime": {
     "end_time": "2023-05-31T11:56:02.493526500Z",
     "start_time": "2023-05-31T11:56:02.359488900Z"
    }
   }
  },
  {
   "cell_type": "code",
   "execution_count": 35,
   "outputs": [
    {
     "data": {
      "text/plain": "0.7984806765825314"
     },
     "execution_count": 35,
     "metadata": {},
     "output_type": "execute_result"
    }
   ],
   "source": [
    "y_predict = lin_reg.predict(X_test)\n",
    "r2_score(y_test, y_predict)"
   ],
   "metadata": {
    "collapsed": false,
    "ExecuteTime": {
     "end_time": "2023-05-31T11:56:02.494526900Z",
     "start_time": "2023-05-31T11:56:02.417164Z"
    }
   }
  },
  {
   "cell_type": "code",
   "execution_count": 36,
   "outputs": [
    {
     "data": {
      "text/plain": "0.7984806765825314"
     },
     "execution_count": 36,
     "metadata": {},
     "output_type": "execute_result"
    }
   ],
   "source": [
    "lin_reg.score(X_test, y_test)"
   ],
   "metadata": {
    "collapsed": false,
    "ExecuteTime": {
     "end_time": "2023-05-31T11:56:02.495033200Z",
     "start_time": "2023-05-31T11:56:02.426438400Z"
    }
   }
  },
  {
   "cell_type": "code",
   "execution_count": 37,
   "outputs": [],
   "source": [
    "from sklearn.neighbors import KNeighborsRegressor\n",
    "\n",
    "# Grid search in sklearn\n",
    "para_grid = [\n",
    "    {\n",
    "        'weights': ['uniform'],\n",
    "        'n_neighbors': [i for i in range(1, 20)]\n",
    "    },\n",
    "    {\n",
    "        'weights': ['distance'],\n",
    "        'n_neighbors': [i for i in range(1, 11)],\n",
    "        'p': [i for i in range(1, 6)]\n",
    "    }\n",
    "]\n",
    "\n",
    "knn_reg = KNeighborsRegressor()"
   ],
   "metadata": {
    "collapsed": false,
    "ExecuteTime": {
     "end_time": "2023-05-31T11:56:02.617800200Z",
     "start_time": "2023-05-31T11:56:02.432108300Z"
    }
   }
  },
  {
   "cell_type": "code",
   "execution_count": 38,
   "outputs": [
    {
     "name": "stdout",
     "output_type": "stream",
     "text": [
      "Fitting 5 folds for each of 69 candidates, totalling 345 fits\n",
      "CPU times: total: 234 ms\n",
      "Wall time: 5.83 s\n"
     ]
    },
    {
     "data": {
      "text/plain": "GridSearchCV(estimator=KNeighborsRegressor(), n_jobs=-1,\n             param_grid=[{'n_neighbors': [1, 2, 3, 4, 5, 6, 7, 8, 9, 10, 11, 12,\n                                          13, 14, 15, 16, 17, 18, 19],\n                          'weights': ['uniform']},\n                         {'n_neighbors': [1, 2, 3, 4, 5, 6, 7, 8, 9, 10],\n                          'p': [1, 2, 3, 4, 5], 'weights': ['distance']}],\n             verbose=2)",
      "text/html": "<style>#sk-container-id-2 {color: black;background-color: white;}#sk-container-id-2 pre{padding: 0;}#sk-container-id-2 div.sk-toggleable {background-color: white;}#sk-container-id-2 label.sk-toggleable__label {cursor: pointer;display: block;width: 100%;margin-bottom: 0;padding: 0.3em;box-sizing: border-box;text-align: center;}#sk-container-id-2 label.sk-toggleable__label-arrow:before {content: \"▸\";float: left;margin-right: 0.25em;color: #696969;}#sk-container-id-2 label.sk-toggleable__label-arrow:hover:before {color: black;}#sk-container-id-2 div.sk-estimator:hover label.sk-toggleable__label-arrow:before {color: black;}#sk-container-id-2 div.sk-toggleable__content {max-height: 0;max-width: 0;overflow: hidden;text-align: left;background-color: #f0f8ff;}#sk-container-id-2 div.sk-toggleable__content pre {margin: 0.2em;color: black;border-radius: 0.25em;background-color: #f0f8ff;}#sk-container-id-2 input.sk-toggleable__control:checked~div.sk-toggleable__content {max-height: 200px;max-width: 100%;overflow: auto;}#sk-container-id-2 input.sk-toggleable__control:checked~label.sk-toggleable__label-arrow:before {content: \"▾\";}#sk-container-id-2 div.sk-estimator input.sk-toggleable__control:checked~label.sk-toggleable__label {background-color: #d4ebff;}#sk-container-id-2 div.sk-label input.sk-toggleable__control:checked~label.sk-toggleable__label {background-color: #d4ebff;}#sk-container-id-2 input.sk-hidden--visually {border: 0;clip: rect(1px 1px 1px 1px);clip: rect(1px, 1px, 1px, 1px);height: 1px;margin: -1px;overflow: hidden;padding: 0;position: absolute;width: 1px;}#sk-container-id-2 div.sk-estimator {font-family: monospace;background-color: #f0f8ff;border: 1px dotted black;border-radius: 0.25em;box-sizing: border-box;margin-bottom: 0.5em;}#sk-container-id-2 div.sk-estimator:hover {background-color: #d4ebff;}#sk-container-id-2 div.sk-parallel-item::after {content: \"\";width: 100%;border-bottom: 1px solid gray;flex-grow: 1;}#sk-container-id-2 div.sk-label:hover label.sk-toggleable__label {background-color: #d4ebff;}#sk-container-id-2 div.sk-serial::before {content: \"\";position: absolute;border-left: 1px solid gray;box-sizing: border-box;top: 0;bottom: 0;left: 50%;z-index: 0;}#sk-container-id-2 div.sk-serial {display: flex;flex-direction: column;align-items: center;background-color: white;padding-right: 0.2em;padding-left: 0.2em;position: relative;}#sk-container-id-2 div.sk-item {position: relative;z-index: 1;}#sk-container-id-2 div.sk-parallel {display: flex;align-items: stretch;justify-content: center;background-color: white;position: relative;}#sk-container-id-2 div.sk-item::before, #sk-container-id-2 div.sk-parallel-item::before {content: \"\";position: absolute;border-left: 1px solid gray;box-sizing: border-box;top: 0;bottom: 0;left: 50%;z-index: -1;}#sk-container-id-2 div.sk-parallel-item {display: flex;flex-direction: column;z-index: 1;position: relative;background-color: white;}#sk-container-id-2 div.sk-parallel-item:first-child::after {align-self: flex-end;width: 50%;}#sk-container-id-2 div.sk-parallel-item:last-child::after {align-self: flex-start;width: 50%;}#sk-container-id-2 div.sk-parallel-item:only-child::after {width: 0;}#sk-container-id-2 div.sk-dashed-wrapped {border: 1px dashed gray;margin: 0 0.4em 0.5em 0.4em;box-sizing: border-box;padding-bottom: 0.4em;background-color: white;}#sk-container-id-2 div.sk-label label {font-family: monospace;font-weight: bold;display: inline-block;line-height: 1.2em;}#sk-container-id-2 div.sk-label-container {text-align: center;}#sk-container-id-2 div.sk-container {/* jupyter's `normalize.less` sets `[hidden] { display: none; }` but bootstrap.min.css set `[hidden] { display: none !important; }` so we also need the `!important` here to be able to override the default hidden behavior on the sphinx rendered scikit-learn.org. See: https://github.com/scikit-learn/scikit-learn/issues/21755 */display: inline-block !important;position: relative;}#sk-container-id-2 div.sk-text-repr-fallback {display: none;}</style><div id=\"sk-container-id-2\" class=\"sk-top-container\"><div class=\"sk-text-repr-fallback\"><pre>GridSearchCV(estimator=KNeighborsRegressor(), n_jobs=-1,\n             param_grid=[{&#x27;n_neighbors&#x27;: [1, 2, 3, 4, 5, 6, 7, 8, 9, 10, 11, 12,\n                                          13, 14, 15, 16, 17, 18, 19],\n                          &#x27;weights&#x27;: [&#x27;uniform&#x27;]},\n                         {&#x27;n_neighbors&#x27;: [1, 2, 3, 4, 5, 6, 7, 8, 9, 10],\n                          &#x27;p&#x27;: [1, 2, 3, 4, 5], &#x27;weights&#x27;: [&#x27;distance&#x27;]}],\n             verbose=2)</pre><b>In a Jupyter environment, please rerun this cell to show the HTML representation or trust the notebook. <br />On GitHub, the HTML representation is unable to render, please try loading this page with nbviewer.org.</b></div><div class=\"sk-container\" hidden><div class=\"sk-item sk-dashed-wrapped\"><div class=\"sk-label-container\"><div class=\"sk-label sk-toggleable\"><input class=\"sk-toggleable__control sk-hidden--visually\" id=\"sk-estimator-id-2\" type=\"checkbox\" ><label for=\"sk-estimator-id-2\" class=\"sk-toggleable__label sk-toggleable__label-arrow\">GridSearchCV</label><div class=\"sk-toggleable__content\"><pre>GridSearchCV(estimator=KNeighborsRegressor(), n_jobs=-1,\n             param_grid=[{&#x27;n_neighbors&#x27;: [1, 2, 3, 4, 5, 6, 7, 8, 9, 10, 11, 12,\n                                          13, 14, 15, 16, 17, 18, 19],\n                          &#x27;weights&#x27;: [&#x27;uniform&#x27;]},\n                         {&#x27;n_neighbors&#x27;: [1, 2, 3, 4, 5, 6, 7, 8, 9, 10],\n                          &#x27;p&#x27;: [1, 2, 3, 4, 5], &#x27;weights&#x27;: [&#x27;distance&#x27;]}],\n             verbose=2)</pre></div></div></div><div class=\"sk-parallel\"><div class=\"sk-parallel-item\"><div class=\"sk-item\"><div class=\"sk-label-container\"><div class=\"sk-label sk-toggleable\"><input class=\"sk-toggleable__control sk-hidden--visually\" id=\"sk-estimator-id-3\" type=\"checkbox\" ><label for=\"sk-estimator-id-3\" class=\"sk-toggleable__label sk-toggleable__label-arrow\">estimator: KNeighborsRegressor</label><div class=\"sk-toggleable__content\"><pre>KNeighborsRegressor()</pre></div></div></div><div class=\"sk-serial\"><div class=\"sk-item\"><div class=\"sk-estimator sk-toggleable\"><input class=\"sk-toggleable__control sk-hidden--visually\" id=\"sk-estimator-id-4\" type=\"checkbox\" ><label for=\"sk-estimator-id-4\" class=\"sk-toggleable__label sk-toggleable__label-arrow\">KNeighborsRegressor</label><div class=\"sk-toggleable__content\"><pre>KNeighborsRegressor()</pre></div></div></div></div></div></div></div></div></div></div>"
     },
     "execution_count": 38,
     "metadata": {},
     "output_type": "execute_result"
    }
   ],
   "source": [
    "%%time\n",
    "\n",
    "from sklearn.model_selection import GridSearchCV\n",
    "\n",
    "grid_searcher = GridSearchCV(knn_reg, para_grid, n_jobs=-1, verbose=2)\n",
    "\n",
    "grid_searcher.fit(X_train, y_train)"
   ],
   "metadata": {
    "collapsed": false,
    "ExecuteTime": {
     "end_time": "2023-05-31T11:56:08.318637400Z",
     "start_time": "2023-05-31T11:56:02.479323600Z"
    }
   }
  },
  {
   "cell_type": "code",
   "execution_count": 39,
   "outputs": [
    {
     "data": {
      "text/plain": "0.624584304838484"
     },
     "execution_count": 39,
     "metadata": {},
     "output_type": "execute_result"
    }
   ],
   "source": [
    "grid_searcher.best_score_"
   ],
   "metadata": {
    "collapsed": false,
    "ExecuteTime": {
     "end_time": "2023-05-31T11:56:08.322466300Z",
     "start_time": "2023-05-31T11:56:08.315835100Z"
    }
   }
  },
  {
   "cell_type": "code",
   "execution_count": 40,
   "outputs": [
    {
     "data": {
      "text/plain": "{'n_neighbors': 4, 'p': 1, 'weights': 'distance'}"
     },
     "execution_count": 40,
     "metadata": {},
     "output_type": "execute_result"
    }
   ],
   "source": [
    "grid_searcher.best_params_"
   ],
   "metadata": {
    "collapsed": false,
    "ExecuteTime": {
     "end_time": "2023-05-31T11:56:08.330139800Z",
     "start_time": "2023-05-31T11:56:08.321559300Z"
    }
   }
  },
  {
   "cell_type": "code",
   "execution_count": 41,
   "outputs": [
    {
     "data": {
      "text/plain": "array([17.99159865, 33.08715932, 12.18084704, 31.24383344, 23.51584723,\n        9.11753264, 31.47552215, 30.74668876, 13.66898977, 32.85110495,\n       16.71276753, 21.75317758, 23.92456485, 15.28241652, 21.28539979,\n       22.54383103, 14.63379859, 23.93558645, 29.21620422, 28.15402832,\n       11.19486558, 22.8581629 , 22.77260631, 27.15384514, 22.11906795,\n       29.86101035, 13.5824046 , 24.21256748, 11.41662726, 24.49673901,\n       35.23257327, 11.23176366, 11.44849499, 41.96243641, 19.26220517,\n       19.18303221,  9.70529001, 27.37096118, 19.19373553, 19.06826024,\n       14.43782386, 24.59439618, 15.46547768, 22.10559622, 21.93302938,\n       13.83262463, 30.66155057, 34.63601915, 18.65349599, 22.33942727,\n       16.92531067, 11.16796678, 23.94630793, 19.76028269, 23.61100902,\n       27.16294748, 24.28616868, 17.43237817, 24.09134386, 36.7612366 ,\n       19.74025564, 24.98444034, 25.87204182, 11.30800448, 13.20259651,\n       24.75488131, 20.75332452, 21.17838091, 29.73906055, 10.81793324,\n       14.52889154, 17.80162406, 19.30485551, 20.81487365, 12.67271977,\n       26.28009159, 21.46411617, 14.99199225, 15.07336835, 30.61736718,\n       27.04858578, 17.80878798, 20.17313394, 18.2215196 , 31.2517989 ,\n       20.41955314, 20.02704851, 19.74606168, 23.61645168, 19.02643637,\n       32.30654089, 34.71115959, 35.96864665, 23.55730371, 29.62078583,\n       38.43110915, 35.24952767, 17.30640086, 11.5931205 , 19.11243169,\n       32.99848359, 13.64132766, 31.044358  , 20.03353446, 16.70636495,\n       15.6467764 , 21.96079498, 20.98624573, 20.91850574, 35.05854217,\n       22.08262083, 20.86638152,  7.41424766, 22.37503387, 30.7221383 ,\n       11.98841801, 21.04817382, 20.61787324, 30.33070827, 11.01318296,\n       33.60323329, 16.4543346 , 16.16413225, 22.63615193, 30.6034953 ,\n       25.86818234, 20.62767551, 27.64694603, 22.74211716, 23.49202382,\n       29.45739494, 21.69834283, 18.79050676, 34.40527922, 35.27731078,\n       23.93262653, 23.23232931, 24.81813056, 22.68923108,  8.42356142,\n       29.96469542, 31.79951151, 23.87134386, 21.15365911,  9.46425401,\n       30.52991157, 33.71503145])"
     },
     "execution_count": 41,
     "metadata": {},
     "output_type": "execute_result"
    }
   ],
   "source": [
    "knn_reg = grid_searcher.best_estimator_\n",
    "knn_reg.predict(X_test)"
   ],
   "metadata": {
    "collapsed": false,
    "ExecuteTime": {
     "end_time": "2023-05-31T11:56:08.336833300Z",
     "start_time": "2023-05-31T11:56:08.328467500Z"
    }
   }
  },
  {
   "cell_type": "code",
   "execution_count": 42,
   "outputs": [
    {
     "data": {
      "text/plain": "0.6967984032789722"
     },
     "execution_count": 42,
     "metadata": {},
     "output_type": "execute_result"
    }
   ],
   "source": [
    "knn_reg.score(X_test, y_test)"
   ],
   "metadata": {
    "collapsed": false,
    "ExecuteTime": {
     "end_time": "2023-05-31T11:56:08.371397600Z",
     "start_time": "2023-05-31T11:56:08.335829100Z"
    }
   }
  },
  {
   "cell_type": "markdown",
   "source": [
    "## More details about linear regression"
   ],
   "metadata": {
    "collapsed": false
   }
  },
  {
   "cell_type": "markdown",
   "source": [
    " The Boston house-price data of Harrison, D. and Rubinfeld, D.L. 'Hedonic\n",
    " prices and the demand for clean air', J. Environ. Economics & Management,\n",
    " vol.5, 81-102, 1978.   Used in Belsley, Kuh & Welsch, 'Regression diagnostics\n",
    " ...', Wiley, 1980.   N.B. Various transformations are used in the table on\n",
    " pages 244-261 of the latter.\n",
    "\n",
    " Variables in order:\n",
    " CRIM     per capita crime rate by town\n",
    " ZN       proportion of residential land zoned for lots over 25,000 sq.ft.\n",
    " INDUS    proportion of non-retail business acres per town\n",
    " CHAS     Charles River dummy variable (= 1 if tract bounds river; 0 otherwise)\n",
    " NOX      nitric oxides concentration (parts per 10 million)\n",
    " RM       average number of rooms per dwelling\n",
    " AGE      proportion of owner-occupied units built prior to 1940\n",
    " DIS      weighted distances to five Boston employment centres\n",
    " RAD      index of accessibility to radial highways\n",
    " TAX      full-value property-tax rate per \\$10,000\n",
    " PTRATIO  pupil-teacher ratio by town\n",
    " B        1000(Bk - 0.63)^2 where Bk is the proportion of blacks by town\n",
    " LSTAT    % lower status of the population\n",
    " MEDV     Median value of owner-occupied homes in \\$1000\\'s"
   ],
   "metadata": {
    "collapsed": false
   }
  },
  {
   "cell_type": "code",
   "execution_count": 43,
   "outputs": [],
   "source": [
    "label_name = ['CRIM', 'ZN', 'INDUS', 'CHAS', 'NOX', 'RM', 'AGE', 'DIS', 'RAD', 'TAX', 'PTRATIO', 'B', 'LSTAT', 'MEDV']"
   ],
   "metadata": {
    "collapsed": false,
    "ExecuteTime": {
     "end_time": "2023-05-31T11:56:08.372435500Z",
     "start_time": "2023-05-31T11:56:08.342895500Z"
    }
   }
  },
  {
   "cell_type": "code",
   "execution_count": 44,
   "outputs": [
    {
     "data": {
      "text/plain": "(36.72972816455894,\n array([-1.10288225e-01,  3.98029539e-02, -2.37196330e-02,  1.59403215e-01,\n        -1.25001067e+01,  3.08208257e+00, -1.70993250e-02, -1.19467165e+00,\n         2.61862346e-01, -1.33061158e-02, -8.63168785e-01,  7.68159972e-03,\n        -4.11980806e-01]))"
     },
     "execution_count": 44,
     "metadata": {},
     "output_type": "execute_result"
    }
   ],
   "source": [
    "demo_ob.interception_, demo_ob.coef_"
   ],
   "metadata": {
    "collapsed": false,
    "ExecuteTime": {
     "end_time": "2023-05-31T11:56:08.372956200Z",
     "start_time": "2023-05-31T11:56:08.348615600Z"
    }
   }
  },
  {
   "cell_type": "code",
   "execution_count": 45,
   "outputs": [
    {
     "data": {
      "text/plain": "['NOX',\n 'DIS',\n 'PTRATIO',\n 'LSTAT',\n 'CRIM',\n 'INDUS',\n 'AGE',\n 'TAX',\n 'B',\n 'ZN',\n 'CHAS',\n 'RAD',\n 'RM']"
     },
     "execution_count": 45,
     "metadata": {},
     "output_type": "execute_result"
    }
   ],
   "source": [
    "[label_name[i] for i in np.argsort(demo_ob.coef_)]"
   ],
   "metadata": {
    "collapsed": false,
    "ExecuteTime": {
     "end_time": "2023-05-31T11:56:08.372956200Z",
     "start_time": "2023-05-31T11:56:08.352970600Z"
    }
   }
  }
 ],
 "metadata": {
  "kernelspec": {
   "display_name": "Python 3 (ipykernel)",
   "language": "python",
   "name": "python3"
  },
  "language_info": {
   "codemirror_mode": {
    "name": "ipython",
    "version": 3
   },
   "file_extension": ".py",
   "mimetype": "text/x-python",
   "name": "python",
   "nbconvert_exporter": "python",
   "pygments_lexer": "ipython3",
   "version": "3.11.3"
  }
 },
 "nbformat": 4,
 "nbformat_minor": 1
}
